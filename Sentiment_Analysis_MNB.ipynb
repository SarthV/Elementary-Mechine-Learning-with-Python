{
  "nbformat": 4,
  "nbformat_minor": 0,
  "metadata": {
    "colab": {
      "name": "Sentiment Analysis MNB.ipynb",
      "provenance": [],
      "authorship_tag": "ABX9TyOnA0NJNAYyg9lf1hlBmd4K",
      "include_colab_link": true
    },
    "kernelspec": {
      "name": "python3",
      "display_name": "Python 3"
    }
  },
  "cells": [
    {
      "cell_type": "markdown",
      "metadata": {
        "id": "view-in-github",
        "colab_type": "text"
      },
      "source": [
        "<a href=\"https://colab.research.google.com/github/SarthV/Machine-Learning-with-Python/blob/master/Sentiment_Analysis_MNB.ipynb\" target=\"_parent\"><img src=\"https://colab.research.google.com/assets/colab-badge.svg\" alt=\"Open In Colab\"/></a>"
      ]
    },
    {
      "cell_type": "code",
      "metadata": {
        "id": "OZJrpZkPNTK-",
        "colab_type": "code",
        "outputId": "44e06bb6-f1a4-412e-835e-5c500e796e68",
        "colab": {
          "base_uri": "https://localhost:8080/",
          "height": 67
        }
      },
      "source": [
        "!pip install wordcloud"
      ],
      "execution_count": 10,
      "outputs": [
        {
          "output_type": "stream",
          "text": [
            "Requirement already satisfied: wordcloud in /usr/local/lib/python3.6/dist-packages (1.5.0)\n",
            "Requirement already satisfied: pillow in /usr/local/lib/python3.6/dist-packages (from wordcloud) (7.0.0)\n",
            "Requirement already satisfied: numpy>=1.6.1 in /usr/local/lib/python3.6/dist-packages (from wordcloud) (1.18.2)\n"
          ],
          "name": "stdout"
        }
      ]
    },
    {
      "cell_type": "code",
      "metadata": {
        "id": "SkrjWyCeNmu5",
        "colab_type": "code",
        "colab": {
          "base_uri": "https://localhost:8080/",
          "height": 67
        },
        "outputId": "553d8a78-f867-4f5a-cfd7-e8d1cba19b00"
      },
      "source": [
        "import numpy as np\n",
        "import tensorflow as tf\n",
        "from tensorflow import keras\n",
        "import pandas as pd\n",
        "import seaborn as sns\n",
        "from pylab import rcParams\n",
        "import string\n",
        "import re\n",
        "import matplotlib.pyplot as plt\n",
        "import math\n",
        "from matplotlib import rc\n",
        "from google.colab import drive\n",
        "from sklearn.model_selection import train_test_split\n",
        "from collections import Counter, defaultdict\n",
        "from bs4 import BeautifulSoup\n",
        "from sklearn.metrics import accuracy_score\n",
        "from sklearn.metrics import classification_report, confusion_matrix\n",
        "import nltk\n",
        "from nltk.corpus import stopwords\n",
        "from wordcloud import WordCloud\n",
        "import pandas.util.testing as tm\n",
        "nltk.download('stopwords')\n"
      ],
      "execution_count": 38,
      "outputs": [
        {
          "output_type": "stream",
          "text": [
            "[nltk_data] Downloading package stopwords to /root/nltk_data...\n",
            "[nltk_data]   Unzipping corpora/stopwords.zip.\n"
          ],
          "name": "stdout"
        },
        {
          "output_type": "execute_result",
          "data": {
            "text/plain": [
              "True"
            ]
          },
          "metadata": {
            "tags": []
          },
          "execution_count": 38
        }
      ]
    },
    {
      "cell_type": "code",
      "metadata": {
        "id": "72iiGdNRWlhj",
        "colab_type": "code",
        "outputId": "d52766f0-3d12-468b-edeb-bd40e3e364f2",
        "colab": {
          "base_uri": "https://localhost:8080/",
          "height": 121
        }
      },
      "source": [
        "drive.mount(\"/content/drive\")"
      ],
      "execution_count": 12,
      "outputs": [
        {
          "output_type": "stream",
          "text": [
            "Go to this URL in a browser: https://accounts.google.com/o/oauth2/auth?client_id=947318989803-6bn6qk8qdgf4n4g3pfee6491hc0brc4i.apps.googleusercontent.com&redirect_uri=urn%3aietf%3awg%3aoauth%3a2.0%3aoob&response_type=code&scope=email%20https%3a%2f%2fwww.googleapis.com%2fauth%2fdocs.test%20https%3a%2f%2fwww.googleapis.com%2fauth%2fdrive%20https%3a%2f%2fwww.googleapis.com%2fauth%2fdrive.photos.readonly%20https%3a%2f%2fwww.googleapis.com%2fauth%2fpeopleapi.readonly\n",
            "\n",
            "Enter your authorization code:\n",
            "··········\n",
            "Mounted at /content/drive\n"
          ],
          "name": "stdout"
        }
      ]
    },
    {
      "cell_type": "code",
      "metadata": {
        "id": "6htp8XWOYzZ0",
        "colab_type": "code",
        "colab": {}
      },
      "source": [
        "train = pd.read_csv(\"/content/drive/My Drive/Colab Notebooks/labeledTrainData.tsv\", delimiter=\"\\t\")\n",
        "test = pd.read_csv(\"/content/drive/My Drive/Colab Notebooks/testData.tsv\", delimiter=\"\\t\")"
      ],
      "execution_count": 0,
      "outputs": []
    },
    {
      "cell_type": "code",
      "metadata": {
        "id": "UlOZQZloZAMe",
        "colab_type": "code",
        "outputId": "82a13c7c-bc91-4211-d2fe-738212a9ef93",
        "colab": {
          "base_uri": "https://localhost:8080/",
          "height": 195
        }
      },
      "source": [
        "train.head()"
      ],
      "execution_count": 39,
      "outputs": [
        {
          "output_type": "execute_result",
          "data": {
            "text/html": [
              "<div>\n",
              "<style scoped>\n",
              "    .dataframe tbody tr th:only-of-type {\n",
              "        vertical-align: middle;\n",
              "    }\n",
              "\n",
              "    .dataframe tbody tr th {\n",
              "        vertical-align: top;\n",
              "    }\n",
              "\n",
              "    .dataframe thead th {\n",
              "        text-align: right;\n",
              "    }\n",
              "</style>\n",
              "<table border=\"1\" class=\"dataframe\">\n",
              "  <thead>\n",
              "    <tr style=\"text-align: right;\">\n",
              "      <th></th>\n",
              "      <th>id</th>\n",
              "      <th>sentiment</th>\n",
              "      <th>review</th>\n",
              "    </tr>\n",
              "  </thead>\n",
              "  <tbody>\n",
              "    <tr>\n",
              "      <th>0</th>\n",
              "      <td>5814_8</td>\n",
              "      <td>1</td>\n",
              "      <td>With all this stuff going down at the moment w...</td>\n",
              "    </tr>\n",
              "    <tr>\n",
              "      <th>1</th>\n",
              "      <td>2381_9</td>\n",
              "      <td>1</td>\n",
              "      <td>\\The Classic War of the Worlds\\\" by Timothy Hi...</td>\n",
              "    </tr>\n",
              "    <tr>\n",
              "      <th>2</th>\n",
              "      <td>7759_3</td>\n",
              "      <td>0</td>\n",
              "      <td>The film starts with a manager (Nicholas Bell)...</td>\n",
              "    </tr>\n",
              "    <tr>\n",
              "      <th>3</th>\n",
              "      <td>3630_4</td>\n",
              "      <td>0</td>\n",
              "      <td>It must be assumed that those who praised this...</td>\n",
              "    </tr>\n",
              "    <tr>\n",
              "      <th>4</th>\n",
              "      <td>9495_8</td>\n",
              "      <td>1</td>\n",
              "      <td>Superbly trashy and wondrously unpretentious 8...</td>\n",
              "    </tr>\n",
              "  </tbody>\n",
              "</table>\n",
              "</div>"
            ],
            "text/plain": [
              "       id  sentiment                                             review\n",
              "0  5814_8          1  With all this stuff going down at the moment w...\n",
              "1  2381_9          1  \\The Classic War of the Worlds\\\" by Timothy Hi...\n",
              "2  7759_3          0  The film starts with a manager (Nicholas Bell)...\n",
              "3  3630_4          0  It must be assumed that those who praised this...\n",
              "4  9495_8          1  Superbly trashy and wondrously unpretentious 8..."
            ]
          },
          "metadata": {
            "tags": []
          },
          "execution_count": 39
        }
      ]
    },
    {
      "cell_type": "code",
      "metadata": {
        "id": "Sw7K2YUmZJjZ",
        "colab_type": "code",
        "outputId": "12c11ab0-556e-4ce1-f6c8-eaee974e2aa2",
        "colab": {
          "base_uri": "https://localhost:8080/",
          "height": 332
        }
      },
      "source": [
        "plt.hist(train['sentiment'])\n",
        "## have a look at the distribution of sentiments."
      ],
      "execution_count": 15,
      "outputs": [
        {
          "output_type": "execute_result",
          "data": {
            "text/plain": [
              "(array([12500.,     0.,     0.,     0.,     0.,     0.,     0.,     0.,\n",
              "            0., 12500.]),\n",
              " array([0. , 0.1, 0.2, 0.3, 0.4, 0.5, 0.6, 0.7, 0.8, 0.9, 1. ]),\n",
              " <a list of 10 Patch objects>)"
            ]
          },
          "metadata": {
            "tags": []
          },
          "execution_count": 15
        },
        {
          "output_type": "display_data",
          "data": {
            "image/png": "[encoded data removed]",
            "text/plain": [
              "<Figure size 432x288 with 1 Axes>"
            ]
          },
          "metadata": {
            "tags": [],
            "needs_background": "light"
          }
        }
      ]
    },
    {
      "cell_type": "code",
      "metadata": {
        "id": "XcR8DyrrczsD",
        "colab_type": "code",
        "outputId": "6b58937a-400e-4395-a53d-fc9ecb430973",
        "colab": {
          "base_uri": "https://localhost:8080/",
          "height": 296
        }
      },
      "source": [
        "sns.distplot(train['sentiment'], axlabel=\"sentiment\", kde= False)"
      ],
      "execution_count": 16,
      "outputs": [
        {
          "output_type": "execute_result",
          "data": {
            "text/plain": [
              "<matplotlib.axes._subplots.AxesSubplot at 0x7fe0b17aa320>"
            ]
          },
          "metadata": {
            "tags": []
          },
          "execution_count": 16
        },
        {
          "output_type": "display_data",
          "data": {
            "image/png": "[encoded data removed]",
            "text/plain": [
              "<Figure size 432x288 with 1 Axes>"
            ]
          },
          "metadata": {
            "tags": [],
            "needs_background": "light"
          }
        }
      ]
    },
    {
      "cell_type": "code",
      "metadata": {
        "id": "mflpMd2wdKsc",
        "colab_type": "code",
        "colab": {}
      },
      "source": [
        "text = \"\".join(review for review in train.review)\n",
        "## joining every review to create a text"
      ],
      "execution_count": 0,
      "outputs": []
    },
    {
      "cell_type": "code",
      "metadata": {
        "id": "wu1jc5YVlKXA",
        "colab_type": "code",
        "colab": {}
      },
      "source": [
        "class Tokenizer:\n",
        "  def cleandata(self, text):\n",
        "    no_html = BeautifulSoup(text).get_text()\n",
        "    clean = re.sub(\"[^a-z\\s]+\", \" \", no_html, flags = re.IGNORECASE)\n",
        "    str = re.sub(\"(\\s+)\", \" \", clean)\n",
        "    return str;\n",
        "\n",
        "  def tokenization(self, text):\n",
        "    clean = self.cleandata(text).lower()\n",
        "    en_stopwords = stopwords.words(\"english\")\n",
        "    return [w for w in re.split(\"\\W+\", clean)\n",
        "      if not w in en_stopwords]\n",
        "## Here en_stopword refer to the common words in English like \"the\", \"and\", \"is\" etc. which can be ommitted mfrom further analysis.\n",
        "## \"\\W+\" refers to all the non alphanumeric symbols in the 'clean' string and thus is the place where the 'clean' string is to be split.\n",
        "## re.split() returns all those split strings. Thus, a list is obtained of the splitted strings without the stopwords.\n",
        "## Tokenizer creates a \"bag of words model\" for us to work with."
      ],
      "execution_count": 0,
      "outputs": []
    },
    {
      "cell_type": "code",
      "metadata": {
        "id": "Du5DSyTPpKrJ",
        "colab_type": "code",
        "colab": {}
      },
      "source": [
        "class MultinomialNB:\n",
        "  def __init__(self, classes, tokenizer):\n",
        "    self.classes = classes\n",
        "    self.tokenizer = tokenizer\n",
        "  \n",
        "  def group_by_class(self, X, y):\n",
        "      data = dict()\n",
        "      for c in self.classes:\n",
        "        data[c] = X[np.where(y == c)]\n",
        "      return data\n",
        "## data is a dictionary conatining reviews mapped to their respective classes.\n",
        "## i.e. it has the mapping of the reviews and their sentiments\n",
        "\n",
        "  def fit(self, X, y):\n",
        "        self.n_class_items = {}\n",
        "        self.log_class_priors = {}\n",
        "        self.word_counts = {}\n",
        "        self.vocab = set()\n",
        "\n",
        "        n = len(X)\n",
        "        \n",
        "        grouped_data = self.group_by_class(X, y)\n",
        "        ## grouped_data is thus a dictionary which has a mapping of the reviews and their sentiments\n",
        "\n",
        "        for c, data in grouped_data.items():\n",
        "          self.n_class_items[c] = len(data)\n",
        "          self.log_class_priors[c] = math.log(self.n_class_items[c] / n)\n",
        "          self.word_counts[c] = defaultdict(lambda: 0)\n",
        "        ## n_class_items keep track of the number of reviews of the particular sentiments in the training set.\n",
        "        ## log_class_priors keeps the track of the logarithm of the prior probability of the respective classes.\n",
        "        ## word_counts keep the track of the total number of unique words in the reviews of a particular sentiment. \n",
        "\n",
        "          for text in data:\n",
        "            counts = Counter(self.tokenizer.tokenization(text))\n",
        "            for word, count in counts.items():\n",
        "                if word not in self.vocab:\n",
        "                    self.vocab.add(word)\n",
        "\n",
        "                self.word_counts[c][word] += count\n",
        "                \n",
        "        return self\n",
        "        ## text is any of the reviews of a particular class/ sentiment.\n",
        "        ## tokenization function is called to first clean the review (see cleandata function) and then the stopwords are removed \n",
        "        ## and a list of all the words in the review is returned.\n",
        "        ## a dictionary called as vocab is maintained to store all the unique words in the training set.\n",
        "        ## Along with this word_counts a dictionary with the mapping of words in a particular class and their number of occurences in it is also updated.\n",
        "      \n",
        "  def laplace_smoothing(self, word, text_class):\n",
        "      num = self.word_counts[text_class][word] + 1\n",
        "      denom = self.n_class_items[text_class] + len(self.vocab)\n",
        "      return math.log(num / denom)\n",
        "      ## First see the predict function below which will direct you to come here.\n",
        "      ## Here laplace smoothing is used only because it is highly possible that a  word is present in only one of the sentiment classes, \n",
        "      ## which would then lead to a situation of log(0)! in calulation of the probabilities. To understand more about\n",
        "      ## this, see the READ.me file. Thus, laplace smoothing simple adds 1 to the numerator to avoid such a situation.\n",
        "\n",
        "  def predict(self, X):\n",
        "        result = []\n",
        "        for text in X:\n",
        "          \n",
        "          class_scores = {c: self.log_class_priors[c] for c in self.classes}\n",
        "\n",
        "          words = set(self.tokenizer.tokenization(text))\n",
        "          for word in words:\n",
        "              if word not in self.vocab: continue\n",
        "\n",
        "              for c in self.classes:\n",
        "                \n",
        "                log_w_given_c = self.laplace_smoothing(word, c)  ## read about this function to kow more!\n",
        "                class_scores[c] += log_w_given_c\n",
        "                \n",
        "          result.append(max(class_scores, key=class_scores.get))\n",
        "\n",
        "        return result\n",
        "\n",
        "        ## the predict function as its name, predicts the sentiment of a review presented to it using the multinomial naive bayes probability theorem.\n",
        "        ## text is here any review in the test set. For every word in the text, it is first checked if it is present in our vocab. If not, then we simply skip this word.\n",
        "        ## Then we calculate the respective posterior probabilities using laplace smoothing. These are then added to the respective class score so as to get the \n",
        "        ## posterior probabilities of the respective classses. The class with the maximum score is picked as the answer and appended to the result list of the predictions.\n"
      ],
      "execution_count": 0,
      "outputs": []
    },
    {
      "cell_type": "code",
      "metadata": {
        "id": "HVKQHsftvBxD",
        "colab_type": "code",
        "colab": {}
      },
      "source": [
        "X = train['review'].values\n",
        "y = train['sentiment'].values\n",
        "  \n",
        "X_train, X_test, y_train, y_test = train_test_split(X, y, test_size=0.2)"
      ],
      "execution_count": 0,
      "outputs": []
    },
    {
      "cell_type": "code",
      "metadata": {
        "id": "V7vN6OvftcPh",
        "colab_type": "code",
        "colab": {}
      },
      "source": [
        "MNB = MultinomialNB(\n",
        "    classes=np.unique(y), \n",
        "    tokenizer=Tokenizer()).fit(X_train, y_train)\n",
        "## Setting up the MNB model."
      ],
      "execution_count": 0,
      "outputs": []
    },
    {
      "cell_type": "code",
      "metadata": {
        "id": "QZfNWPWnz9kC",
        "colab_type": "code",
        "colab": {
          "base_uri": "https://localhost:8080/",
          "height": 34
        },
        "outputId": "1afb5286-01da-406e-9224-3c90a238c252"
      },
      "source": [
        "y_hat = MNB.predict(X_test)\n",
        "accuracy_score(y_test, y_hat)"
      ],
      "execution_count": 49,
      "outputs": [
        {
          "output_type": "execute_result",
          "data": {
            "text/plain": [
              "0.8584"
            ]
          },
          "metadata": {
            "tags": []
          },
          "execution_count": 49
        }
      ]
    },
    {
      "cell_type": "code",
      "metadata": {
        "id": "A5IA7oSP0uaJ",
        "colab_type": "code",
        "colab": {
          "base_uri": "https://localhost:8080/",
          "height": 50
        },
        "outputId": "c4a8a3a9-71b6-452f-b1bc-5b38fb370dd4"
      },
      "source": [
        "cnf_matrix = confusion_matrix(y_test, y_hat)\n",
        "cnf_matrix\n",
        "## Getting the confusion matrix. We have also plotted below thie same using sns heatplot.\n",
        "## for ideas on plotting confusion matrix, follow this link \" https://github.com/wcipriano/pretty-print-confusion-matrix \" ."
      ],
      "execution_count": 50,
      "outputs": [
        {
          "output_type": "execute_result",
          "data": {
            "text/plain": [
              "array([[2030,  470],\n",
              "       [ 238, 2262]])"
            ]
          },
          "metadata": {
            "tags": []
          },
          "execution_count": 50
        }
      ]
    },
    {
      "cell_type": "code",
      "metadata": {
        "id": "3c0tu9c30wZq",
        "colab_type": "code",
        "colab": {}
      },
      "source": [
        "df = pd.DataFrame(cnf_matrix, [0,1], [0,1])"
      ],
      "execution_count": 0,
      "outputs": []
    },
    {
      "cell_type": "code",
      "metadata": {
        "id": "TBVmFPXy1pbf",
        "colab_type": "code",
        "colab": {
          "base_uri": "https://localhost:8080/",
          "height": 567
        },
        "outputId": "075a3ab7-26ee-4704-bebd-607c4613c2a2"
      },
      "source": [
        "labels = [\"True Neg\",\"False Pos\",\"False Neg\",\"True Pos\"]\n",
        "labels = np.asarray(labels).reshape(2,2)\n",
        "fig = plt.figure(figsize= (9,9))\n",
        "sns.heatmap(df, annot=True, fmt=\"\", cmap='Blues', xticklabels= [\"negative\", \"positive\"], yticklabels= [\"negative\", \"positive\"], cbar=False)\n",
        "plt.xlabel(\"Predicted sentiment\")\n",
        "plt.ylabel(\"True sentiment\")\n",
        "plt.show()"
      ],
      "execution_count": 99,
      "outputs": [
        {
          "output_type": "display_data",
          "data": {
            "image/png": "[encoded data removed]",
            "text/plain": [
              "<Figure size 648x648 with 1 Axes>"
            ]
          },
          "metadata": {
            "tags": []
          }
        }
      ]
    }
  ]
}