{
  "nbformat": 4,
  "nbformat_minor": 0,
  "metadata": {
    "colab": {
      "name": "Twitter.ipynb",
      "provenance": [],
      "authorship_tag": "ABX9TyN4ZsuUK8l7mKPSqoSVU7y1",
      "include_colab_link": true
    },
    "kernelspec": {
      "name": "python3",
      "display_name": "Python 3"
    }
  },
  "cells": [
    {
      "cell_type": "markdown",
      "metadata": {
        "id": "view-in-github",
        "colab_type": "text"
      },
      "source": [
        "<a href=\"https://colab.research.google.com/github/SarthV/Machine-Learning-with-Python/blob/master/Twitter-%20Sentiment%20Analysis/Twitter.ipynb\" target=\"_parent\"><img src=\"https://colab.research.google.com/assets/colab-badge.svg\" alt=\"Open In Colab\"/></a>"
      ]
    },
    {
      "cell_type": "code",
      "metadata": {
        "id": "UBo_lFLVDUCh",
        "colab_type": "code",
        "outputId": "e15c7da3-e453-48e3-98cc-d5f4f9cef63d",
        "colab": {
          "base_uri": "https://localhost:8080/",
          "height": 70
        }
      },
      "source": [
        "import re\n",
        "import nltk\n",
        "import string\n",
        "import warnings\n",
        "import pandas as pd\n",
        "import numpy as np\n",
        "import seaborn as sns\n",
        "import matplotlib.pyplot as plt\n",
        "import sklearn\n",
        "from google.colab import drive\n",
        "pd.set_option(\"display.max_colwidth\", 200) \n",
        "from PIL import Image\n",
        "import wordcloud\n",
        "from wordcloud import WordCloud, STOPWORDS"
      ],
      "execution_count": 0,
      "outputs": [
        {
          "output_type": "stream",
          "text": [
            "/usr/local/lib/python3.6/dist-packages/statsmodels/tools/_testing.py:19: FutureWarning: pandas.util.testing is deprecated. Use the functions in the public API at pandas.testing instead.\n",
            "  import pandas.util.testing as tm\n"
          ],
          "name": "stderr"
        }
      ]
    },
    {
      "cell_type": "code",
      "metadata": {
        "id": "kKax4TdUD9lC",
        "colab_type": "code",
        "outputId": "1b82012a-32f6-4625-d3e0-0e29243fd5f6",
        "colab": {
          "base_uri": "https://localhost:8080/",
          "height": 121
        }
      },
      "source": [
        "drive.mount(\"/content/drive\")"
      ],
      "execution_count": 0,
      "outputs": [
        {
          "output_type": "stream",
          "text": [
            "Go to this URL in a browser: https://accounts.google.com/o/oauth2/auth?client_id=947318989803-6bn6qk8qdgf4n4g3pfee6491hc0brc4i.apps.googleusercontent.com&redirect_uri=urn%3aietf%3awg%3aoauth%3a2.0%3aoob&response_type=code&scope=email%20https%3a%2f%2fwww.googleapis.com%2fauth%2fdocs.test%20https%3a%2f%2fwww.googleapis.com%2fauth%2fdrive%20https%3a%2f%2fwww.googleapis.com%2fauth%2fdrive.photos.readonly%20https%3a%2f%2fwww.googleapis.com%2fauth%2fpeopleapi.readonly\n",
            "\n",
            "Enter your authorization code:\n",
            "··········\n",
            "Mounted at /content/drive\n"
          ],
          "name": "stdout"
        }
      ]
    },
    {
      "cell_type": "code",
      "metadata": {
        "id": "4RoPWDzbII6l",
        "colab_type": "code",
        "colab": {}
      },
      "source": [
        "warnings.filterwarnings(\"ignore\", category=DeprecationWarning) "
      ],
      "execution_count": 0,
      "outputs": []
    },
    {
      "cell_type": "code",
      "metadata": {
        "id": "l_m81-HzIPEZ",
        "colab_type": "code",
        "colab": {}
      },
      "source": [
        "test = pd.read_csv(\"/content/drive/My Drive/Colab Notebooks/Twitter Analytics/test_tweets_anuFYb8.csv\")\n",
        "train = pd.read_csv(\"/content/drive/My Drive/Colab Notebooks/Twitter Analytics/train_E6oV3lV.csv\")"
      ],
      "execution_count": 0,
      "outputs": []
    },
    {
      "cell_type": "code",
      "metadata": {
        "id": "Sq0eOchbJj7l",
        "colab_type": "code",
        "outputId": "34992d0e-74eb-4249-81fa-fb10701bf3f2",
        "colab": {
          "base_uri": "https://localhost:8080/",
          "height": 195
        }
      },
      "source": [
        "train.head()"
      ],
      "execution_count": 0,
      "outputs": [
        {
          "output_type": "execute_result",
          "data": {
            "text/html": [
              "<div>\n",
              "<style scoped>\n",
              "    .dataframe tbody tr th:only-of-type {\n",
              "        vertical-align: middle;\n",
              "    }\n",
              "\n",
              "    .dataframe tbody tr th {\n",
              "        vertical-align: top;\n",
              "    }\n",
              "\n",
              "    .dataframe thead th {\n",
              "        text-align: right;\n",
              "    }\n",
              "</style>\n",
              "<table border=\"1\" class=\"dataframe\">\n",
              "  <thead>\n",
              "    <tr style=\"text-align: right;\">\n",
              "      <th></th>\n",
              "      <th>id</th>\n",
              "      <th>label</th>\n",
              "      <th>tweet</th>\n",
              "    </tr>\n",
              "  </thead>\n",
              "  <tbody>\n",
              "    <tr>\n",
              "      <th>0</th>\n",
              "      <td>1</td>\n",
              "      <td>0</td>\n",
              "      <td>@user when a father is dysfunctional and is so selfish he drags his kids into his dysfunction.   #run</td>\n",
              "    </tr>\n",
              "    <tr>\n",
              "      <th>1</th>\n",
              "      <td>2</td>\n",
              "      <td>0</td>\n",
              "      <td>@user @user thanks for #lyft credit i can't use cause they don't offer wheelchair vans in pdx.    #disapointed #getthanked</td>\n",
              "    </tr>\n",
              "    <tr>\n",
              "      <th>2</th>\n",
              "      <td>3</td>\n",
              "      <td>0</td>\n",
              "      <td>bihday your majesty</td>\n",
              "    </tr>\n",
              "    <tr>\n",
              "      <th>3</th>\n",
              "      <td>4</td>\n",
              "      <td>0</td>\n",
              "      <td>#model   i love u take with u all the time in urð±!!! ððððð¦ð¦ð¦</td>\n",
              "    </tr>\n",
              "    <tr>\n",
              "      <th>4</th>\n",
              "      <td>5</td>\n",
              "      <td>0</td>\n",
              "      <td>factsguide: society now    #motivation</td>\n",
              "    </tr>\n",
              "  </tbody>\n",
              "</table>\n",
              "</div>"
            ],
            "text/plain": [
              "   id  ...                                                                                                                       tweet\n",
              "0   1  ...                       @user when a father is dysfunctional and is so selfish he drags his kids into his dysfunction.   #run\n",
              "1   2  ...  @user @user thanks for #lyft credit i can't use cause they don't offer wheelchair vans in pdx.    #disapointed #getthanked\n",
              "2   3  ...                                                                                                         bihday your majesty\n",
              "3   4  ...                                      #model   i love u take with u all the time in urð±!!! ðððð\n",
              "ð¦ð¦ð¦  \n",
              "4   5  ...                                                                                      factsguide: society now    #motivation\n",
              "\n",
              "[5 rows x 3 columns]"
            ]
          },
          "metadata": {
            "tags": []
          },
          "execution_count": 6
        }
      ]
    },
    {
      "cell_type": "code",
      "metadata": {
        "id": "OXpJttz2Kqhf",
        "colab_type": "code",
        "outputId": "993808f9-85f5-4365-b4d7-21331cd2643a",
        "colab": {
          "base_uri": "https://localhost:8080/",
          "height": 195
        }
      },
      "source": [
        "train[train['label'] == 1].head()"
      ],
      "execution_count": 0,
      "outputs": [
        {
          "output_type": "execute_result",
          "data": {
            "text/html": [
              "<div>\n",
              "<style scoped>\n",
              "    .dataframe tbody tr th:only-of-type {\n",
              "        vertical-align: middle;\n",
              "    }\n",
              "\n",
              "    .dataframe tbody tr th {\n",
              "        vertical-align: top;\n",
              "    }\n",
              "\n",
              "    .dataframe thead th {\n",
              "        text-align: right;\n",
              "    }\n",
              "</style>\n",
              "<table border=\"1\" class=\"dataframe\">\n",
              "  <thead>\n",
              "    <tr style=\"text-align: right;\">\n",
              "      <th></th>\n",
              "      <th>id</th>\n",
              "      <th>label</th>\n",
              "      <th>tweet</th>\n",
              "    </tr>\n",
              "  </thead>\n",
              "  <tbody>\n",
              "    <tr>\n",
              "      <th>13</th>\n",
              "      <td>14</td>\n",
              "      <td>1</td>\n",
              "      <td>@user #cnn calls #michigan middle school 'build the wall' chant '' #tcot</td>\n",
              "    </tr>\n",
              "    <tr>\n",
              "      <th>14</th>\n",
              "      <td>15</td>\n",
              "      <td>1</td>\n",
              "      <td>no comment!  in #australia   #opkillingbay #seashepherd #helpcovedolphins #thecove  #helpcovedolphins</td>\n",
              "    </tr>\n",
              "    <tr>\n",
              "      <th>17</th>\n",
              "      <td>18</td>\n",
              "      <td>1</td>\n",
              "      <td>retweet if you agree!</td>\n",
              "    </tr>\n",
              "    <tr>\n",
              "      <th>23</th>\n",
              "      <td>24</td>\n",
              "      <td>1</td>\n",
              "      <td>@user @user lumpy says i am a . prove it lumpy.</td>\n",
              "    </tr>\n",
              "    <tr>\n",
              "      <th>34</th>\n",
              "      <td>35</td>\n",
              "      <td>1</td>\n",
              "      <td>it's unbelievable that in the 21st century we'd need something like this. again. #neverump  #xenophobia</td>\n",
              "    </tr>\n",
              "  </tbody>\n",
              "</table>\n",
              "</div>"
            ],
            "text/plain": [
              "    id  ...                                                                                                     tweet\n",
              "13  14  ...                                @user #cnn calls #michigan middle school 'build the wall' chant '' #tcot  \n",
              "14  15  ...     no comment!  in #australia   #opkillingbay #seashepherd #helpcovedolphins #thecove  #helpcovedolphins\n",
              "17  18  ...                                                                                    retweet if you agree! \n",
              "23  24  ...                                                           @user @user lumpy says i am a . prove it lumpy.\n",
              "34  35  ...  it's unbelievable that in the 21st century we'd need something like this. again. #neverump  #xenophobia \n",
              "\n",
              "[5 rows x 3 columns]"
            ]
          },
          "metadata": {
            "tags": []
          },
          "execution_count": 7
        }
      ]
    },
    {
      "cell_type": "code",
      "metadata": {
        "id": "DRAwL6pTK5lR",
        "colab_type": "code",
        "outputId": "ce4bf9b0-2e7c-42fd-a552-61af8c2ee759",
        "colab": {
          "base_uri": "https://localhost:8080/",
          "height": 332
        }
      },
      "source": [
        "plt.hist(train['label'])"
      ],
      "execution_count": 0,
      "outputs": [
        {
          "output_type": "execute_result",
          "data": {
            "text/plain": [
              "(array([29720.,     0.,     0.,     0.,     0.,     0.,     0.,     0.,\n",
              "            0.,  2242.]),\n",
              " array([0. , 0.1, 0.2, 0.3, 0.4, 0.5, 0.6, 0.7, 0.8, 0.9, 1. ]),\n",
              " <a list of 10 Patch objects>)"
            ]
          },
          "metadata": {
            "tags": []
          },
          "execution_count": 8
        },
        {
          "output_type": "display_data",
          "data": {
            "image/png": "[encoded data removed]",
            "text/plain": [
              "<Figure size 432x288 with 1 Axes>"
            ]
          },
          "metadata": {
            "tags": [],
            "needs_background": "light"
          }
        }
      ]
    },
    {
      "cell_type": "markdown",
      "metadata": {
        "id": "bclA7x20LPi7",
        "colab_type": "text"
      },
      "source": [
        "Too many non racist tweets! That's a relief for now. <br/>\n",
        "But this imbalance distribution is actually not that helpful for us to make Sentiment Analysis.\n",
        "\n"
      ]
    },
    {
      "cell_type": "code",
      "metadata": {
        "id": "2gWi4oukLap3",
        "colab_type": "code",
        "outputId": "7c0f7af5-7f68-4e47-b0d4-eee653594851",
        "colab": {
          "base_uri": "https://localhost:8080/",
          "height": 399
        }
      },
      "source": [
        "len_train = train['tweet'].str.len()\n",
        "plt.hist(len_train, bins=15)"
      ],
      "execution_count": 0,
      "outputs": [
        {
          "output_type": "execute_result",
          "data": {
            "text/plain": [
              "(array([1.011e+03, 2.957e+03, 4.261e+03, 4.956e+03, 7.507e+03, 6.867e+03,\n",
              "        3.362e+03, 9.920e+02, 3.400e+01, 9.000e+00, 4.000e+00, 0.000e+00,\n",
              "        0.000e+00, 1.000e+00, 1.000e+00]),\n",
              " array([ 11.        ,  28.53333333,  46.06666667,  63.6       ,\n",
              "         81.13333333,  98.66666667, 116.2       , 133.73333333,\n",
              "        151.26666667, 168.8       , 186.33333333, 203.86666667,\n",
              "        221.4       , 238.93333333, 256.46666667, 274.        ]),\n",
              " <a list of 15 Patch objects>)"
            ]
          },
          "metadata": {
            "tags": []
          },
          "execution_count": 9
        },
        {
          "output_type": "display_data",
          "data": {
            "image/png": "[encoded data removed]",
            "text/plain": [
              "<Figure size 432x288 with 1 Axes>"
            ]
          },
          "metadata": {
            "tags": [],
            "needs_background": "light"
          }
        }
      ]
    },
    {
      "cell_type": "code",
      "metadata": {
        "id": "LiSIsaaeM3gW",
        "colab_type": "code",
        "outputId": "a79ef49e-ec19-4281-c4d8-21c961eff24d",
        "colab": {
          "base_uri": "https://localhost:8080/",
          "height": 195
        }
      },
      "source": [
        "combined = train.append(test, ignore_index= True)\n",
        "combined.head()"
      ],
      "execution_count": 0,
      "outputs": [
        {
          "output_type": "execute_result",
          "data": {
            "text/html": [
              "<div>\n",
              "<style scoped>\n",
              "    .dataframe tbody tr th:only-of-type {\n",
              "        vertical-align: middle;\n",
              "    }\n",
              "\n",
              "    .dataframe tbody tr th {\n",
              "        vertical-align: top;\n",
              "    }\n",
              "\n",
              "    .dataframe thead th {\n",
              "        text-align: right;\n",
              "    }\n",
              "</style>\n",
              "<table border=\"1\" class=\"dataframe\">\n",
              "  <thead>\n",
              "    <tr style=\"text-align: right;\">\n",
              "      <th></th>\n",
              "      <th>id</th>\n",
              "      <th>label</th>\n",
              "      <th>tweet</th>\n",
              "    </tr>\n",
              "  </thead>\n",
              "  <tbody>\n",
              "    <tr>\n",
              "      <th>0</th>\n",
              "      <td>1</td>\n",
              "      <td>0.0</td>\n",
              "      <td>@user when a father is dysfunctional and is so selfish he drags his kids into his dysfunction.   #run</td>\n",
              "    </tr>\n",
              "    <tr>\n",
              "      <th>1</th>\n",
              "      <td>2</td>\n",
              "      <td>0.0</td>\n",
              "      <td>@user @user thanks for #lyft credit i can't use cause they don't offer wheelchair vans in pdx.    #disapointed #getthanked</td>\n",
              "    </tr>\n",
              "    <tr>\n",
              "      <th>2</th>\n",
              "      <td>3</td>\n",
              "      <td>0.0</td>\n",
              "      <td>bihday your majesty</td>\n",
              "    </tr>\n",
              "    <tr>\n",
              "      <th>3</th>\n",
              "      <td>4</td>\n",
              "      <td>0.0</td>\n",
              "      <td>#model   i love u take with u all the time in urð±!!! ððððð¦ð¦ð¦</td>\n",
              "    </tr>\n",
              "    <tr>\n",
              "      <th>4</th>\n",
              "      <td>5</td>\n",
              "      <td>0.0</td>\n",
              "      <td>factsguide: society now    #motivation</td>\n",
              "    </tr>\n",
              "  </tbody>\n",
              "</table>\n",
              "</div>"
            ],
            "text/plain": [
              "   id  ...                                                                                                                       tweet\n",
              "0   1  ...                       @user when a father is dysfunctional and is so selfish he drags his kids into his dysfunction.   #run\n",
              "1   2  ...  @user @user thanks for #lyft credit i can't use cause they don't offer wheelchair vans in pdx.    #disapointed #getthanked\n",
              "2   3  ...                                                                                                         bihday your majesty\n",
              "3   4  ...                                      #model   i love u take with u all the time in urð±!!! ðððð\n",
              "ð¦ð¦ð¦  \n",
              "4   5  ...                                                                                      factsguide: society now    #motivation\n",
              "\n",
              "[5 rows x 3 columns]"
            ]
          },
          "metadata": {
            "tags": []
          },
          "execution_count": 10
        }
      ]
    },
    {
      "cell_type": "code",
      "metadata": {
        "id": "91ap0yzIjQnF",
        "colab_type": "code",
        "colab": {}
      },
      "source": [
        "combined['cleaned tweet'] = combined['tweet'].str.replace(\"@[\\w]*\", \"\")"
      ],
      "execution_count": 0,
      "outputs": []
    },
    {
      "cell_type": "code",
      "metadata": {
        "id": "2QNdhb8JlMV6",
        "colab_type": "code",
        "outputId": "c4d71631-b988-408f-c3b8-376be6de2395",
        "colab": {
          "base_uri": "https://localhost:8080/",
          "height": 229
        }
      },
      "source": [
        "combined.head()"
      ],
      "execution_count": 0,
      "outputs": [
        {
          "output_type": "execute_result",
          "data": {
            "text/html": [
              "<div>\n",
              "<style scoped>\n",
              "    .dataframe tbody tr th:only-of-type {\n",
              "        vertical-align: middle;\n",
              "    }\n",
              "\n",
              "    .dataframe tbody tr th {\n",
              "        vertical-align: top;\n",
              "    }\n",
              "\n",
              "    .dataframe thead th {\n",
              "        text-align: right;\n",
              "    }\n",
              "</style>\n",
              "<table border=\"1\" class=\"dataframe\">\n",
              "  <thead>\n",
              "    <tr style=\"text-align: right;\">\n",
              "      <th></th>\n",
              "      <th>id</th>\n",
              "      <th>label</th>\n",
              "      <th>tweet</th>\n",
              "      <th>cleaned tweet</th>\n",
              "    </tr>\n",
              "  </thead>\n",
              "  <tbody>\n",
              "    <tr>\n",
              "      <th>0</th>\n",
              "      <td>1</td>\n",
              "      <td>0.0</td>\n",
              "      <td>@user when a father is dysfunctional and is so selfish he drags his kids into his dysfunction.   #run</td>\n",
              "      <td>when a father is dysfunctional and is so selfish he drags his kids into his dysfunction.   #run</td>\n",
              "    </tr>\n",
              "    <tr>\n",
              "      <th>1</th>\n",
              "      <td>2</td>\n",
              "      <td>0.0</td>\n",
              "      <td>@user @user thanks for #lyft credit i can't use cause they don't offer wheelchair vans in pdx.    #disapointed #getthanked</td>\n",
              "      <td>thanks for #lyft credit i can't use cause they don't offer wheelchair vans in pdx.    #disapointed #getthanked</td>\n",
              "    </tr>\n",
              "    <tr>\n",
              "      <th>2</th>\n",
              "      <td>3</td>\n",
              "      <td>0.0</td>\n",
              "      <td>bihday your majesty</td>\n",
              "      <td>bihday your majesty</td>\n",
              "    </tr>\n",
              "    <tr>\n",
              "      <th>3</th>\n",
              "      <td>4</td>\n",
              "      <td>0.0</td>\n",
              "      <td>#model   i love u take with u all the time in urð±!!! ððððð¦ð¦ð¦</td>\n",
              "      <td>#model   i love u take with u all the time in urð±!!! ððððð¦ð¦ð¦</td>\n",
              "    </tr>\n",
              "    <tr>\n",
              "      <th>4</th>\n",
              "      <td>5</td>\n",
              "      <td>0.0</td>\n",
              "      <td>factsguide: society now    #motivation</td>\n",
              "      <td>factsguide: society now    #motivation</td>\n",
              "    </tr>\n",
              "  </tbody>\n",
              "</table>\n",
              "</div>"
            ],
            "text/plain": [
              "   id  ...                                                                                                     cleaned tweet\n",
              "0   1  ...                   when a father is dysfunctional and is so selfish he drags his kids into his dysfunction.   #run\n",
              "1   2  ...    thanks for #lyft credit i can't use cause they don't offer wheelchair vans in pdx.    #disapointed #getthanked\n",
              "2   3  ...                                                                                               bihday your majesty\n",
              "3   4  ...                            #model   i love u take with u all the time in urð±!!! ðððð\n",
              "ð¦ð¦ð¦  \n",
              "4   5  ...                                                                            factsguide: society now    #motivation\n",
              "\n",
              "[5 rows x 4 columns]"
            ]
          },
          "metadata": {
            "tags": []
          },
          "execution_count": 12
        }
      ]
    },
    {
      "cell_type": "markdown",
      "metadata": {
        "id": "NNLZC0zclb-k",
        "colab_type": "text"
      },
      "source": [
        "We removed \"@user\" part from the tweet but we still need to remove other characters from the tweets.\n"
      ]
    },
    {
      "cell_type": "code",
      "metadata": {
        "id": "1_EfGp8almPh",
        "colab_type": "code",
        "outputId": "69d8b76d-654c-4029-951d-779ed625b04c",
        "colab": {
          "base_uri": "https://localhost:8080/",
          "height": 394
        }
      },
      "source": [
        "combined['cleaned tweet'] = combined['cleaned tweet'].str.replace(\"[^a-zA-Z#]\", \" \") ## We do not replace the hashtags here! Note the # symbol inside the square braces.\n",
        "combined.head(10)"
      ],
      "execution_count": 0,
      "outputs": [
        {
          "output_type": "execute_result",
          "data": {
            "text/html": [
              "<div>\n",
              "<style scoped>\n",
              "    .dataframe tbody tr th:only-of-type {\n",
              "        vertical-align: middle;\n",
              "    }\n",
              "\n",
              "    .dataframe tbody tr th {\n",
              "        vertical-align: top;\n",
              "    }\n",
              "\n",
              "    .dataframe thead th {\n",
              "        text-align: right;\n",
              "    }\n",
              "</style>\n",
              "<table border=\"1\" class=\"dataframe\">\n",
              "  <thead>\n",
              "    <tr style=\"text-align: right;\">\n",
              "      <th></th>\n",
              "      <th>id</th>\n",
              "      <th>label</th>\n",
              "      <th>tweet</th>\n",
              "      <th>cleaned tweet</th>\n",
              "    </tr>\n",
              "  </thead>\n",
              "  <tbody>\n",
              "    <tr>\n",
              "      <th>0</th>\n",
              "      <td>1</td>\n",
              "      <td>0.0</td>\n",
              "      <td>@user when a father is dysfunctional and is so selfish he drags his kids into his dysfunction.   #run</td>\n",
              "      <td>when a father is dysfunctional and is so selfish he drags his kids into his dysfunction    #run</td>\n",
              "    </tr>\n",
              "    <tr>\n",
              "      <th>1</th>\n",
              "      <td>2</td>\n",
              "      <td>0.0</td>\n",
              "      <td>@user @user thanks for #lyft credit i can't use cause they don't offer wheelchair vans in pdx.    #disapointed #getthanked</td>\n",
              "      <td>thanks for #lyft credit i can t use cause they don t offer wheelchair vans in pdx     #disapointed #getthanked</td>\n",
              "    </tr>\n",
              "    <tr>\n",
              "      <th>2</th>\n",
              "      <td>3</td>\n",
              "      <td>0.0</td>\n",
              "      <td>bihday your majesty</td>\n",
              "      <td>bihday your majesty</td>\n",
              "    </tr>\n",
              "    <tr>\n",
              "      <th>3</th>\n",
              "      <td>4</td>\n",
              "      <td>0.0</td>\n",
              "      <td>#model   i love u take with u all the time in urð±!!! ððððð¦ð¦ð¦</td>\n",
              "      <td>#model   i love u take with u all the time in ur</td>\n",
              "    </tr>\n",
              "    <tr>\n",
              "      <th>4</th>\n",
              "      <td>5</td>\n",
              "      <td>0.0</td>\n",
              "      <td>factsguide: society now    #motivation</td>\n",
              "      <td>factsguide  society now    #motivation</td>\n",
              "    </tr>\n",
              "    <tr>\n",
              "      <th>5</th>\n",
              "      <td>6</td>\n",
              "      <td>0.0</td>\n",
              "      <td>[2/2] huge fan fare and big talking before they leave. chaos and pay disputes when they get there. #allshowandnogo</td>\n",
              "      <td>huge fan fare and big talking before they leave  chaos and pay disputes when they get there  #allshowandnogo</td>\n",
              "    </tr>\n",
              "    <tr>\n",
              "      <th>6</th>\n",
              "      <td>7</td>\n",
              "      <td>0.0</td>\n",
              "      <td>@user camping tomorrow @user @user @user @user @user @user @user dannyâ¦</td>\n",
              "      <td>camping tomorrow        danny</td>\n",
              "    </tr>\n",
              "    <tr>\n",
              "      <th>7</th>\n",
              "      <td>8</td>\n",
              "      <td>0.0</td>\n",
              "      <td>the next school year is the year for exams.ð¯ can't think about that ð­ #school #exams   #hate #imagine #actorslife #revolutionschool #girl</td>\n",
              "      <td>the next school year is the year for exams      can t think about that      #school #exams   #hate #imagine #actorslife #revolutionschool #girl</td>\n",
              "    </tr>\n",
              "    <tr>\n",
              "      <th>8</th>\n",
              "      <td>9</td>\n",
              "      <td>0.0</td>\n",
              "      <td>we won!!! love the land!!! #allin #cavs #champions #cleveland #clevelandcavaliers  â¦</td>\n",
              "      <td>we won    love the land    #allin #cavs #champions #cleveland #clevelandcavaliers</td>\n",
              "    </tr>\n",
              "    <tr>\n",
              "      <th>9</th>\n",
              "      <td>10</td>\n",
              "      <td>0.0</td>\n",
              "      <td>@user @user welcome here !  i'm   it's so #gr8 !</td>\n",
              "      <td>welcome here    i m   it s so #gr</td>\n",
              "    </tr>\n",
              "  </tbody>\n",
              "</table>\n",
              "</div>"
            ],
            "text/plain": [
              "   id  ...                                                                                                                                    cleaned tweet\n",
              "0   1  ...                                                  when a father is dysfunctional and is so selfish he drags his kids into his dysfunction    #run\n",
              "1   2  ...                                   thanks for #lyft credit i can t use cause they don t offer wheelchair vans in pdx     #disapointed #getthanked\n",
              "2   3  ...                                                                                                                              bihday your majesty\n",
              "3   4  ...                                                           #model   i love u take with u all the time in ur                                      \n",
              "4   5  ...                                                                                                           factsguide  society now    #motivation\n",
              "5   6  ...                                   huge fan fare and big talking before they leave  chaos and pay disputes when they get there  #allshowandnogo  \n",
              "6   7  ...                                                                                                                 camping tomorrow        danny   \n",
              "7   8  ...  the next school year is the year for exams      can t think about that      #school #exams   #hate #imagine #actorslife #revolutionschool #girl\n",
              "8   9  ...                                                          we won    love the land    #allin #cavs #champions #cleveland #clevelandcavaliers      \n",
              "9  10  ...                                                                                                            welcome here    i m   it s so #gr    \n",
              "\n",
              "[10 rows x 4 columns]"
            ]
          },
          "metadata": {
            "tags": []
          },
          "execution_count": 13
        }
      ]
    },
    {
      "cell_type": "markdown",
      "metadata": {
        "id": "F2oGaA9CnDp1",
        "colab_type": "text"
      },
      "source": [
        "***Now, to make the text analysis more useful, we will now try to eradicate/ remove all the words with 2 or less than 2 letters from all the reviews in the dataset.***"
      ]
    },
    {
      "cell_type": "code",
      "metadata": {
        "id": "mkmW8984nK9K",
        "colab_type": "code",
        "colab": {}
      },
      "source": [
        "def removeShort(tweetList):\n",
        "  newlist = [\" \".join(w for w in p.split() if len(w) > 3) for p in tweetList] \n",
        "  return newlist"
      ],
      "execution_count": 0,
      "outputs": []
    },
    {
      "cell_type": "code",
      "metadata": {
        "id": "rc0Ghi2yqV4w",
        "colab_type": "code",
        "colab": {}
      },
      "source": [
        "from pandas import DataFrame"
      ],
      "execution_count": 0,
      "outputs": []
    },
    {
      "cell_type": "code",
      "metadata": {
        "id": "Go6TFlPuobWz",
        "colab_type": "code",
        "colab": {}
      },
      "source": [
        "newlist = removeShort(combined['cleaned tweet'])\n",
        "newdf = DataFrame(newlist, columns=['cleantweet'])"
      ],
      "execution_count": 0,
      "outputs": []
    },
    {
      "cell_type": "markdown",
      "metadata": {
        "id": "JZDT8xQDq_9V",
        "colab_type": "text"
      },
      "source": [
        "Here we need to be careful now. **Note that the function removeShort returns a list where as our \"combined\" table is dataframe.** Thus, here we define a newlist which is a list containing all the tweets with the short words removed.  Next we convert this list into a datframe and replace the 'cleaned twwets' colums in the combined dataframe by this newly formed datframe from newlist i.e. newdf. "
      ]
    },
    {
      "cell_type": "code",
      "metadata": {
        "id": "CS57IDLmquqq",
        "colab_type": "code",
        "outputId": "f6c1b7d3-dd58-467a-9ed9-bc55628b79f6",
        "colab": {
          "base_uri": "https://localhost:8080/",
          "height": 195
        }
      },
      "source": [
        "newdf.head()"
      ],
      "execution_count": 0,
      "outputs": [
        {
          "output_type": "execute_result",
          "data": {
            "text/html": [
              "<div>\n",
              "<style scoped>\n",
              "    .dataframe tbody tr th:only-of-type {\n",
              "        vertical-align: middle;\n",
              "    }\n",
              "\n",
              "    .dataframe tbody tr th {\n",
              "        vertical-align: top;\n",
              "    }\n",
              "\n",
              "    .dataframe thead th {\n",
              "        text-align: right;\n",
              "    }\n",
              "</style>\n",
              "<table border=\"1\" class=\"dataframe\">\n",
              "  <thead>\n",
              "    <tr style=\"text-align: right;\">\n",
              "      <th></th>\n",
              "      <th>cleantweet</th>\n",
              "    </tr>\n",
              "  </thead>\n",
              "  <tbody>\n",
              "    <tr>\n",
              "      <th>0</th>\n",
              "      <td>when father dysfunctional selfish drags kids into dysfunction #run</td>\n",
              "    </tr>\n",
              "    <tr>\n",
              "      <th>1</th>\n",
              "      <td>thanks #lyft credit cause they offer wheelchair vans #disapointed #getthanked</td>\n",
              "    </tr>\n",
              "    <tr>\n",
              "      <th>2</th>\n",
              "      <td>bihday your majesty</td>\n",
              "    </tr>\n",
              "    <tr>\n",
              "      <th>3</th>\n",
              "      <td>#model love take with time</td>\n",
              "    </tr>\n",
              "    <tr>\n",
              "      <th>4</th>\n",
              "      <td>factsguide society #motivation</td>\n",
              "    </tr>\n",
              "  </tbody>\n",
              "</table>\n",
              "</div>"
            ],
            "text/plain": [
              "                                                                      cleantweet\n",
              "0             when father dysfunctional selfish drags kids into dysfunction #run\n",
              "1  thanks #lyft credit cause they offer wheelchair vans #disapointed #getthanked\n",
              "2                                                            bihday your majesty\n",
              "3                                                     #model love take with time\n",
              "4                                                 factsguide society #motivation"
            ]
          },
          "metadata": {
            "tags": []
          },
          "execution_count": 17
        }
      ]
    },
    {
      "cell_type": "code",
      "metadata": {
        "id": "1WbxznG4qyww",
        "colab_type": "code",
        "colab": {}
      },
      "source": [
        "combined['cleaned tweet'] = newdf['cleantweet']"
      ],
      "execution_count": 0,
      "outputs": []
    },
    {
      "cell_type": "code",
      "metadata": {
        "id": "sY3hfpblq6Nc",
        "colab_type": "code",
        "outputId": "38e6a6c4-d729-4aa6-9d17-d825d19d6ae9",
        "colab": {
          "base_uri": "https://localhost:8080/",
          "height": 394
        }
      },
      "source": [
        "combined.head(10)"
      ],
      "execution_count": 0,
      "outputs": [
        {
          "output_type": "execute_result",
          "data": {
            "text/html": [
              "<div>\n",
              "<style scoped>\n",
              "    .dataframe tbody tr th:only-of-type {\n",
              "        vertical-align: middle;\n",
              "    }\n",
              "\n",
              "    .dataframe tbody tr th {\n",
              "        vertical-align: top;\n",
              "    }\n",
              "\n",
              "    .dataframe thead th {\n",
              "        text-align: right;\n",
              "    }\n",
              "</style>\n",
              "<table border=\"1\" class=\"dataframe\">\n",
              "  <thead>\n",
              "    <tr style=\"text-align: right;\">\n",
              "      <th></th>\n",
              "      <th>id</th>\n",
              "      <th>label</th>\n",
              "      <th>tweet</th>\n",
              "      <th>cleaned tweet</th>\n",
              "    </tr>\n",
              "  </thead>\n",
              "  <tbody>\n",
              "    <tr>\n",
              "      <th>0</th>\n",
              "      <td>1</td>\n",
              "      <td>0.0</td>\n",
              "      <td>@user when a father is dysfunctional and is so selfish he drags his kids into his dysfunction.   #run</td>\n",
              "      <td>when father dysfunctional selfish drags kids into dysfunction #run</td>\n",
              "    </tr>\n",
              "    <tr>\n",
              "      <th>1</th>\n",
              "      <td>2</td>\n",
              "      <td>0.0</td>\n",
              "      <td>@user @user thanks for #lyft credit i can't use cause they don't offer wheelchair vans in pdx.    #disapointed #getthanked</td>\n",
              "      <td>thanks #lyft credit cause they offer wheelchair vans #disapointed #getthanked</td>\n",
              "    </tr>\n",
              "    <tr>\n",
              "      <th>2</th>\n",
              "      <td>3</td>\n",
              "      <td>0.0</td>\n",
              "      <td>bihday your majesty</td>\n",
              "      <td>bihday your majesty</td>\n",
              "    </tr>\n",
              "    <tr>\n",
              "      <th>3</th>\n",
              "      <td>4</td>\n",
              "      <td>0.0</td>\n",
              "      <td>#model   i love u take with u all the time in urð±!!! ððððð¦ð¦ð¦</td>\n",
              "      <td>#model love take with time</td>\n",
              "    </tr>\n",
              "    <tr>\n",
              "      <th>4</th>\n",
              "      <td>5</td>\n",
              "      <td>0.0</td>\n",
              "      <td>factsguide: society now    #motivation</td>\n",
              "      <td>factsguide society #motivation</td>\n",
              "    </tr>\n",
              "    <tr>\n",
              "      <th>5</th>\n",
              "      <td>6</td>\n",
              "      <td>0.0</td>\n",
              "      <td>[2/2] huge fan fare and big talking before they leave. chaos and pay disputes when they get there. #allshowandnogo</td>\n",
              "      <td>huge fare talking before they leave chaos disputes when they there #allshowandnogo</td>\n",
              "    </tr>\n",
              "    <tr>\n",
              "      <th>6</th>\n",
              "      <td>7</td>\n",
              "      <td>0.0</td>\n",
              "      <td>@user camping tomorrow @user @user @user @user @user @user @user dannyâ¦</td>\n",
              "      <td>camping tomorrow danny</td>\n",
              "    </tr>\n",
              "    <tr>\n",
              "      <th>7</th>\n",
              "      <td>8</td>\n",
              "      <td>0.0</td>\n",
              "      <td>the next school year is the year for exams.ð¯ can't think about that ð­ #school #exams   #hate #imagine #actorslife #revolutionschool #girl</td>\n",
              "      <td>next school year year exams think about that #school #exams #hate #imagine #actorslife #revolutionschool #girl</td>\n",
              "    </tr>\n",
              "    <tr>\n",
              "      <th>8</th>\n",
              "      <td>9</td>\n",
              "      <td>0.0</td>\n",
              "      <td>we won!!! love the land!!! #allin #cavs #champions #cleveland #clevelandcavaliers  â¦</td>\n",
              "      <td>love land #allin #cavs #champions #cleveland #clevelandcavaliers</td>\n",
              "    </tr>\n",
              "    <tr>\n",
              "      <th>9</th>\n",
              "      <td>10</td>\n",
              "      <td>0.0</td>\n",
              "      <td>@user @user welcome here !  i'm   it's so #gr8 !</td>\n",
              "      <td>welcome here</td>\n",
              "    </tr>\n",
              "  </tbody>\n",
              "</table>\n",
              "</div>"
            ],
            "text/plain": [
              "   id  ...                                                                                                   cleaned tweet\n",
              "0   1  ...                                              when father dysfunctional selfish drags kids into dysfunction #run\n",
              "1   2  ...                                   thanks #lyft credit cause they offer wheelchair vans #disapointed #getthanked\n",
              "2   3  ...                                                                                             bihday your majesty\n",
              "3   4  ...                                                                                      #model love take with time\n",
              "4   5  ...                                                                                  factsguide society #motivation\n",
              "5   6  ...                              huge fare talking before they leave chaos disputes when they there #allshowandnogo\n",
              "6   7  ...                                                                                          camping tomorrow danny\n",
              "7   8  ...  next school year year exams think about that #school #exams #hate #imagine #actorslife #revolutionschool #girl\n",
              "8   9  ...                                                love land #allin #cavs #champions #cleveland #clevelandcavaliers\n",
              "9  10  ...                                                                                                    welcome here\n",
              "\n",
              "[10 rows x 4 columns]"
            ]
          },
          "metadata": {
            "tags": []
          },
          "execution_count": 19
        }
      ]
    },
    {
      "cell_type": "code",
      "metadata": {
        "id": "WSjg5kPGsPZH",
        "colab_type": "code",
        "colab": {}
      },
      "source": [
        "## Tokenization : creating a bag of words model.\n",
        "tokenized_tweet = combined['cleaned tweet'].apply(lambda x : x.split())"
      ],
      "execution_count": 0,
      "outputs": []
    },
    {
      "cell_type": "code",
      "metadata": {
        "id": "oDbdRyuxuQN7",
        "colab_type": "code",
        "outputId": "307f7c0e-0dea-4f27-d215-2b94d93342b7",
        "colab": {
          "base_uri": "https://localhost:8080/",
          "height": 118
        }
      },
      "source": [
        "tokenized_tweet.head()"
      ],
      "execution_count": 0,
      "outputs": [
        {
          "output_type": "execute_result",
          "data": {
            "text/plain": [
              "0                [when, father, dysfunctional, selfish, drags, kids, into, dysfunction, #run]\n",
              "1    [thanks, #lyft, credit, cause, they, offer, wheelchair, vans, #disapointed, #getthanked]\n",
              "2                                                                     [bihday, your, majesty]\n",
              "3                                                            [#model, love, take, with, time]\n",
              "4                                                          [factsguide, society, #motivation]\n",
              "Name: cleaned tweet, dtype: object"
            ]
          },
          "metadata": {
            "tags": []
          },
          "execution_count": 21
        }
      ]
    },
    {
      "cell_type": "code",
      "metadata": {
        "id": "7nuMOrhIugW5",
        "colab_type": "code",
        "colab": {}
      },
      "source": [
        "## Using NLTK  library's Stemmer which is very similar to Lemmatization that we had performed in the previous code i.e. Topic Modelling.ipynb.\n",
        "## You may refer the same for more understanding.\n",
        "from nltk.stem.porter import * "
      ],
      "execution_count": 0,
      "outputs": []
    },
    {
      "cell_type": "code",
      "metadata": {
        "id": "VeK0uef4u6m6",
        "colab_type": "code",
        "colab": {}
      },
      "source": [
        "ps = PorterStemmer()\n",
        "tokenized_tweet = tokenized_tweet.apply(lambda x : [ps.stem(i) for i in x])"
      ],
      "execution_count": 0,
      "outputs": []
    },
    {
      "cell_type": "code",
      "metadata": {
        "id": "T5pMegVdvZVa",
        "colab_type": "code",
        "colab": {}
      },
      "source": [
        "## Joining these split words back to for the newly cleaned tweet\n",
        "for i in range(len(tokenized_tweet)):\n",
        "  tokenized_tweet[i] = \" \".join(tokenized_tweet[i])"
      ],
      "execution_count": 0,
      "outputs": []
    },
    {
      "cell_type": "code",
      "metadata": {
        "id": "14CNRrCUwk2Y",
        "colab_type": "code",
        "outputId": "16524f38-1081-4de4-e7f7-4ec92ceb629f",
        "colab": {
          "base_uri": "https://localhost:8080/",
          "height": 118
        }
      },
      "source": [
        "tokenized_tweet.head()\n"
      ],
      "execution_count": 0,
      "outputs": [
        {
          "output_type": "execute_result",
          "data": {
            "text/plain": [
              "0                  when father dysfunct selfish drag kid into dysfunct #run\n",
              "1    thank #lyft credit caus they offer wheelchair van #disapoint #getthank\n",
              "2                                                       bihday your majesti\n",
              "3                                                #model love take with time\n",
              "4                                                  factsguid societi #motiv\n",
              "Name: cleaned tweet, dtype: object"
            ]
          },
          "metadata": {
            "tags": []
          },
          "execution_count": 25
        }
      ]
    },
    {
      "cell_type": "code",
      "metadata": {
        "id": "pQRaQd4PwxNf",
        "colab_type": "code",
        "colab": {}
      },
      "source": [
        "combined['cleaned tweet'] = tokenized_tweet"
      ],
      "execution_count": 0,
      "outputs": []
    },
    {
      "cell_type": "code",
      "metadata": {
        "id": "U3lJG9WXx6bM",
        "colab_type": "code",
        "outputId": "81f8775b-e4b5-421a-e5c3-33fc229cf850",
        "colab": {
          "base_uri": "https://localhost:8080/",
          "height": 394
        }
      },
      "source": [
        "combined.head(10)"
      ],
      "execution_count": 0,
      "outputs": [
        {
          "output_type": "execute_result",
          "data": {
            "text/html": [
              "<div>\n",
              "<style scoped>\n",
              "    .dataframe tbody tr th:only-of-type {\n",
              "        vertical-align: middle;\n",
              "    }\n",
              "\n",
              "    .dataframe tbody tr th {\n",
              "        vertical-align: top;\n",
              "    }\n",
              "\n",
              "    .dataframe thead th {\n",
              "        text-align: right;\n",
              "    }\n",
              "</style>\n",
              "<table border=\"1\" class=\"dataframe\">\n",
              "  <thead>\n",
              "    <tr style=\"text-align: right;\">\n",
              "      <th></th>\n",
              "      <th>id</th>\n",
              "      <th>label</th>\n",
              "      <th>tweet</th>\n",
              "      <th>cleaned tweet</th>\n",
              "    </tr>\n",
              "  </thead>\n",
              "  <tbody>\n",
              "    <tr>\n",
              "      <th>0</th>\n",
              "      <td>1</td>\n",
              "      <td>0.0</td>\n",
              "      <td>@user when a father is dysfunctional and is so selfish he drags his kids into his dysfunction.   #run</td>\n",
              "      <td>when father dysfunct selfish drag kid into dysfunct #run</td>\n",
              "    </tr>\n",
              "    <tr>\n",
              "      <th>1</th>\n",
              "      <td>2</td>\n",
              "      <td>0.0</td>\n",
              "      <td>@user @user thanks for #lyft credit i can't use cause they don't offer wheelchair vans in pdx.    #disapointed #getthanked</td>\n",
              "      <td>thank #lyft credit caus they offer wheelchair van #disapoint #getthank</td>\n",
              "    </tr>\n",
              "    <tr>\n",
              "      <th>2</th>\n",
              "      <td>3</td>\n",
              "      <td>0.0</td>\n",
              "      <td>bihday your majesty</td>\n",
              "      <td>bihday your majesti</td>\n",
              "    </tr>\n",
              "    <tr>\n",
              "      <th>3</th>\n",
              "      <td>4</td>\n",
              "      <td>0.0</td>\n",
              "      <td>#model   i love u take with u all the time in urð±!!! ððððð¦ð¦ð¦</td>\n",
              "      <td>#model love take with time</td>\n",
              "    </tr>\n",
              "    <tr>\n",
              "      <th>4</th>\n",
              "      <td>5</td>\n",
              "      <td>0.0</td>\n",
              "      <td>factsguide: society now    #motivation</td>\n",
              "      <td>factsguid societi #motiv</td>\n",
              "    </tr>\n",
              "    <tr>\n",
              "      <th>5</th>\n",
              "      <td>6</td>\n",
              "      <td>0.0</td>\n",
              "      <td>[2/2] huge fan fare and big talking before they leave. chaos and pay disputes when they get there. #allshowandnogo</td>\n",
              "      <td>huge fare talk befor they leav chao disput when they there #allshowandnogo</td>\n",
              "    </tr>\n",
              "    <tr>\n",
              "      <th>6</th>\n",
              "      <td>7</td>\n",
              "      <td>0.0</td>\n",
              "      <td>@user camping tomorrow @user @user @user @user @user @user @user dannyâ¦</td>\n",
              "      <td>camp tomorrow danni</td>\n",
              "    </tr>\n",
              "    <tr>\n",
              "      <th>7</th>\n",
              "      <td>8</td>\n",
              "      <td>0.0</td>\n",
              "      <td>the next school year is the year for exams.ð¯ can't think about that ð­ #school #exams   #hate #imagine #actorslife #revolutionschool #girl</td>\n",
              "      <td>next school year year exam think about that #school #exam #hate #imagin #actorslif #revolutionschool #girl</td>\n",
              "    </tr>\n",
              "    <tr>\n",
              "      <th>8</th>\n",
              "      <td>9</td>\n",
              "      <td>0.0</td>\n",
              "      <td>we won!!! love the land!!! #allin #cavs #champions #cleveland #clevelandcavaliers  â¦</td>\n",
              "      <td>love land #allin #cav #champion #cleveland #clevelandcavali</td>\n",
              "    </tr>\n",
              "    <tr>\n",
              "      <th>9</th>\n",
              "      <td>10</td>\n",
              "      <td>0.0</td>\n",
              "      <td>@user @user welcome here !  i'm   it's so #gr8 !</td>\n",
              "      <td>welcom here</td>\n",
              "    </tr>\n",
              "  </tbody>\n",
              "</table>\n",
              "</div>"
            ],
            "text/plain": [
              "   id  ...                                                                                               cleaned tweet\n",
              "0   1  ...                                                    when father dysfunct selfish drag kid into dysfunct #run\n",
              "1   2  ...                                      thank #lyft credit caus they offer wheelchair van #disapoint #getthank\n",
              "2   3  ...                                                                                         bihday your majesti\n",
              "3   4  ...                                                                                  #model love take with time\n",
              "4   5  ...                                                                                    factsguid societi #motiv\n",
              "5   6  ...                                  huge fare talk befor they leav chao disput when they there #allshowandnogo\n",
              "6   7  ...                                                                                         camp tomorrow danni\n",
              "7   8  ...  next school year year exam think about that #school #exam #hate #imagin #actorslif #revolutionschool #girl\n",
              "8   9  ...                                                 love land #allin #cav #champion #cleveland #clevelandcavali\n",
              "9  10  ...                                                                                                 welcom here\n",
              "\n",
              "[10 rows x 4 columns]"
            ]
          },
          "metadata": {
            "tags": []
          },
          "execution_count": 27
        }
      ]
    },
    {
      "cell_type": "markdown",
      "metadata": {
        "id": "H1ujxGb6yXcG",
        "colab_type": "text"
      },
      "source": [
        "As earlier, we will explore the most commonly used words in all of the tweets witth the help of wordcloud."
      ]
    },
    {
      "cell_type": "code",
      "metadata": {
        "id": "JwgKfFiTyg-e",
        "colab_type": "code",
        "outputId": "6a375d62-10de-4e0b-839c-00ddf1a58121",
        "colab": {
          "base_uri": "https://localhost:8080/",
          "height": 198
        }
      },
      "source": [
        "temp_text = \" \".join(i for i in combined['cleaned tweet'])\n",
        "wordcloud = WordCloud(background_color= \"white\").generate(temp_text)\n",
        "plt.imshow(wordcloud, interpolation='bilinear')\n",
        "plt.axis(\"off\")\n",
        "plt.show()"
      ],
      "execution_count": 0,
      "outputs": [
        {
          "output_type": "display_data",
          "data": {
            "image/png": "[encoded data removed]",
            "text/plain": [
              "<Figure size 432x288 with 1 Axes>"
            ]
          },
          "metadata": {
            "tags": [],
            "needs_background": "light"
          }
        }
      ]
    },
    {
      "cell_type": "markdown",
      "metadata": {
        "id": "bx5alTcEzjcs",
        "colab_type": "text"
      },
      "source": [
        "We will now also visualize the tweets according to their categories, i.e. racist and non racist."
      ]
    },
    {
      "cell_type": "code",
      "metadata": {
        "id": "KNyi7Fh-ztWx",
        "colab_type": "code",
        "outputId": "800cf3d0-bb21-46d4-da0e-a462f9a02534",
        "colab": {
          "base_uri": "https://localhost:8080/",
          "height": 198
        }
      },
      "source": [
        "temp_text_racist = \" \".join(i for i in combined['cleaned tweet'][combined['label'] == 1])\n",
        "wordcloud = WordCloud(background_color= \"white\").generate(temp_text_racist)\n",
        "plt.imshow(wordcloud, interpolation='bilinear')\n",
        "plt.axis(\"off\")\n",
        "plt.show()"
      ],
      "execution_count": 0,
      "outputs": [
        {
          "output_type": "display_data",
          "data": {
            "image/png": "[encoded data removed]",
            "text/plain": [
              "<Figure size 432x288 with 1 Axes>"
            ]
          },
          "metadata": {
            "tags": [],
            "needs_background": "light"
          }
        }
      ]
    },
    {
      "cell_type": "markdown",
      "metadata": {
        "id": "WWtSfvGZ0ClN",
        "colab_type": "text"
      },
      "source": [
        "Well, certainly not surprised to see Trump's name in bold over here."
      ]
    },
    {
      "cell_type": "code",
      "metadata": {
        "id": "fgHv7vdF0K7U",
        "colab_type": "code",
        "outputId": "5b5e3a81-117f-4cd3-b51d-1a2f7dc742af",
        "colab": {
          "base_uri": "https://localhost:8080/",
          "height": 198
        }
      },
      "source": [
        "temp_text_not = \" \".join(i for i in combined['cleaned tweet'][combined['label'] == 0])\n",
        "wordcloud = WordCloud(background_color= \"white\").generate(temp_text_not)\n",
        "plt.imshow(wordcloud, interpolation='bilinear')\n",
        "plt.axis(\"off\")\n",
        "plt.show()"
      ],
      "execution_count": 0,
      "outputs": [
        {
          "output_type": "display_data",
          "data": {
            "image/png": "[encoded data removed]",
            "text/plain": [
              "<Figure size 432x288 with 1 Axes>"
            ]
          },
          "metadata": {
            "tags": [],
            "needs_background": "light"
          }
        }
      ]
    },
    {
      "cell_type": "markdown",
      "metadata": {
        "id": "zsNwnGWd0Qsc",
        "colab_type": "text"
      },
      "source": [
        "In the end,<br/> ***Love always comes first  :)***"
      ]
    },
    {
      "cell_type": "code",
      "metadata": {
        "id": "vdlAz4hu0a1P",
        "colab_type": "code",
        "colab": {}
      },
      "source": [
        "#Hashtags scene!\n",
        "def extract_hash(tweetlist):\n",
        "  hashtag = []\n",
        "  for tweets in tweetlist:\n",
        "    ht = re.findall(r\"#(\\w+)\", tweets);\n",
        "    hashtag.append(ht)\n",
        "  return hashtag    "
      ],
      "execution_count": 0,
      "outputs": []
    },
    {
      "cell_type": "code",
      "metadata": {
        "id": "RXCYt9thsfba",
        "colab_type": "code",
        "colab": {}
      },
      "source": [
        "ht = extract_hash(combined['cleaned tweet'])"
      ],
      "execution_count": 0,
      "outputs": []
    },
    {
      "cell_type": "code",
      "metadata": {
        "id": "zu315iJtskyV",
        "colab_type": "code",
        "outputId": "42dab3af-310f-481f-e6fd-ee0874af5c48",
        "colab": {
          "base_uri": "https://localhost:8080/",
          "height": 185
        }
      },
      "source": [
        "for i in range(10):\n",
        "  print(ht[i]) ## help debug"
      ],
      "execution_count": 0,
      "outputs": [
        {
          "output_type": "stream",
          "text": [
            "['run']\n",
            "['lyft', 'disapoint', 'getthank']\n",
            "[]\n",
            "['model']\n",
            "['motiv']\n",
            "['allshowandnogo']\n",
            "[]\n",
            "['school', 'exam', 'hate', 'imagin', 'actorslif', 'revolutionschool', 'girl']\n",
            "['allin', 'cav', 'champion', 'cleveland', 'clevelandcavali']\n",
            "[]\n"
          ],
          "name": "stdout"
        }
      ]
    },
    {
      "cell_type": "code",
      "metadata": {
        "id": "XOrPikt5s9Uc",
        "colab_type": "code",
        "colab": {}
      },
      "source": [
        "racist_hash = extract_hash(combined['cleaned tweet'][combined['cleaned tweet'] == 1])\n",
        "non_racist_hash = extract_hash(combined['cleaned tweet'][combined['cleaned tweet'] == 0])"
      ],
      "execution_count": 0,
      "outputs": []
    },
    {
      "cell_type": "code",
      "metadata": {
        "id": "N2971FU4wN9z",
        "colab_type": "code",
        "colab": {}
      },
      "source": [
        "from sklearn.feature_extraction.text import TfidfVectorizer, CountVectorizer \n",
        "import gensim"
      ],
      "execution_count": 0,
      "outputs": []
    },
    {
      "cell_type": "markdown",
      "metadata": {
        "id": "UsinWmyKvtum",
        "colab_type": "text"
      },
      "source": [
        "Bag of words model and document term (dt) matrix.\n",
        "Here we use CountVectorizer to create a document term matrix.  To understand the different parameters of this function I highly ***recommend*** to read this excellent blog: https://kavita-ganesan.com/how-to-use-countvectorizer/#.XqgfLWgzbBU <br/>\n",
        "Also the default tokenization in CountVectorizer removes all special characters, punctuation and single characters!"
      ]
    },
    {
      "cell_type": "code",
      "metadata": {
        "id": "-Fkz-rDBvz_9",
        "colab_type": "code",
        "colab": {}
      },
      "source": [
        "cv = CountVectorizer( max_df= 0.88, min_df=2, stop_words='english', max_features= 1100)\n",
        "bow = cv.fit_transform(combined['cleaned tweet'])"
      ],
      "execution_count": 0,
      "outputs": []
    },
    {
      "cell_type": "code",
      "metadata": {
        "id": "FAna7Zgcwv4b",
        "colab_type": "code",
        "outputId": "a808efed-1ad2-49ab-9b82-64947a746144",
        "colab": {
          "base_uri": "https://localhost:8080/",
          "height": 1000
        }
      },
      "source": [
        "cv.vocabulary_"
      ],
      "execution_count": 0,
      "outputs": [
        {
          "output_type": "execute_result",
          "data": {
            "text/plain": [
              "{'father': 338,\n",
              " 'kid': 523,\n",
              " 'run': 823,\n",
              " 'thank': 972,\n",
              " 'caus': 146,\n",
              " 'offer': 669,\n",
              " 'bihday': 89,\n",
              " 'model': 623,\n",
              " 'love': 580,\n",
              " 'time': 982,\n",
              " 'societi': 883,\n",
              " 'motiv': 633,\n",
              " 'huge': 475,\n",
              " 'talk': 951,\n",
              " 'befor': 79,\n",
              " 'leav': 546,\n",
              " 'camp': 136,\n",
              " 'tomorrow': 988,\n",
              " 'school': 835,\n",
              " 'year': 1092,\n",
              " 'exam': 314,\n",
              " 'think': 977,\n",
              " 'hate': 440,\n",
              " 'imagin': 487,\n",
              " 'girl': 395,\n",
              " 'land': 534,\n",
              " 'cav': 147,\n",
              " 'welcom': 1064,\n",
              " 'ireland': 507,\n",
              " 'price': 747,\n",
              " 'climb': 173,\n",
              " 'previou': 746,\n",
              " 'blog': 99,\n",
              " 'silver': 864,\n",
              " 'gold': 403,\n",
              " 'forex': 368,\n",
              " 'orlando': 683,\n",
              " 'orlandoshoot': 684,\n",
              " 'heabreak': 444,\n",
              " 'valu': 1028,\n",
              " 'daddi': 230,\n",
              " 'today': 985,\n",
              " 'day': 237,\n",
              " 'build': 130,\n",
              " 'wall': 1047,\n",
              " 'comment': 190,\n",
              " 'angri': 37,\n",
              " 'posit': 733,\n",
              " 'retweet': 807,\n",
              " 'agre': 19,\n",
              " 'friday': 376,\n",
              " 'smile': 878,\n",
              " 'make': 592,\n",
              " 'peopl': 701,\n",
              " 'know': 531,\n",
              " 'euro': 305,\n",
              " 'blame': 95,\n",
              " 'goal': 400,\n",
              " 'gave': 389,\n",
              " 'away': 63,\n",
              " 'free': 373,\n",
              " 'kick': 522,\n",
              " 'littl': 565,\n",
              " 'dude': 280,\n",
              " 'cat': 144,\n",
              " 'funni': 384,\n",
              " 'laugh': 538,\n",
              " 'product': 753,\n",
              " 'happi': 435,\n",
              " 'wine': 1073,\n",
              " 'tool': 991,\n",
              " 'weekend': 1063,\n",
              " 'open': 678,\n",
              " 'drink': 277,\n",
              " 'say': 832,\n",
              " 'prove': 760,\n",
              " 'tgif': 971,\n",
              " 'squad': 905,\n",
              " 'beauti': 75,\n",
              " 'sign': 863,\n",
              " 'media': 606,\n",
              " 'sunday': 935,\n",
              " 'great': 419,\n",
              " 'public': 761,\n",
              " 'servic': 848,\n",
              " 'went': 1065,\n",
              " 'good': 406,\n",
              " 'night': 658,\n",
              " 'action': 7,\n",
              " 'mean': 605,\n",
              " 'lost': 578,\n",
              " 'famili': 333,\n",
              " 'forev': 367,\n",
              " 'rip': 811,\n",
              " 'chanc': 150,\n",
              " 'vote': 1042,\n",
              " 'candid': 138,\n",
              " 'excit': 316,\n",
              " 'thi': 975,\n",
              " 'look': 574,\n",
              " 'differ': 258,\n",
              " 'doe': 264,\n",
              " 'exist': 318,\n",
              " 'pass': 695,\n",
              " 'tonight': 989,\n",
              " 'sing': 868,\n",
              " 'cheer': 155,\n",
              " 'hard': 438,\n",
              " 'monday': 626,\n",
              " 'weather': 1058,\n",
              " 'goodnight': 409,\n",
              " 'need': 648,\n",
              " 'someth': 885,\n",
              " 'like': 559,\n",
              " 'bull': 131,\n",
              " 'domin': 267,\n",
              " 'direct': 260,\n",
              " 'whatev': 1067,\n",
              " 'want': 1049,\n",
              " 'morn': 631,\n",
              " 'onc': 674,\n",
              " 'onli': 675,\n",
              " 'word': 1080,\n",
              " 'tell': 963,\n",
              " 'wait': 1043,\n",
              " 'hour': 473,\n",
              " 'line': 560,\n",
              " 'stop': 915,\n",
              " 'work': 1081,\n",
              " 'close': 175,\n",
              " 'sunshin': 938,\n",
              " 'final': 349,\n",
              " 'finish': 351,\n",
              " 'book': 108,\n",
              " 'just': 521,\n",
              " 'roll': 818,\n",
              " 'life': 555,\n",
              " 'social': 882,\n",
              " 'share': 853,\n",
              " 'grow': 424,\n",
              " 'garden': 388,\n",
              " 'amaz': 32,\n",
              " 'affirm': 17,\n",
              " 'goe': 402,\n",
              " 'wrong': 1088,\n",
              " 'feel': 343,\n",
              " 'blue': 102,\n",
              " 'best': 84,\n",
              " 'readi': 781,\n",
              " 'prayfororlando': 740,\n",
              " 'job': 512,\n",
              " 'begin': 80,\n",
              " 'super': 939,\n",
              " 'play': 719,\n",
              " 'piec': 714,\n",
              " 'let': 549,\n",
              " 'fight': 347,\n",
              " 'peac': 700,\n",
              " 'video': 1036,\n",
              " 'world': 1083,\n",
              " 'babe': 65,\n",
              " 'fashion': 336,\n",
              " 'style': 928,\n",
              " 'selfi': 843,\n",
              " 'confer': 197,\n",
              " 'right': 810,\n",
              " 'mindset': 619,\n",
              " 'lead': 541,\n",
              " 'cultur': 225,\n",
              " 'develop': 254,\n",
              " 'organ': 681,\n",
              " 'christina': 164,\n",
              " 'grimmi': 422,\n",
              " 'perform': 703,\n",
              " 'shot': 861,\n",
              " 'voic': 1041,\n",
              " 'danc': 233,\n",
              " 'student': 923,\n",
              " 'proud': 759,\n",
              " 'realli': 785,\n",
              " 'wife': 1070,\n",
              " 'ador': 12,\n",
              " 'miss': 622,\n",
              " 'becaus': 76,\n",
              " 'everyth': 311,\n",
              " 'celebr': 148,\n",
              " 'everi': 307,\n",
              " 'role': 817,\n",
              " 'sure': 943,\n",
              " 'white': 1069,\n",
              " 'themselv': 974,\n",
              " 'promot': 756,\n",
              " 'journey': 516,\n",
              " 'travel': 1000,\n",
              " 'yeah': 1091,\n",
              " 'hello': 454,\n",
              " 'arriv': 54,\n",
              " 'stuff': 926,\n",
              " 'happen': 434,\n",
              " 'florida': 357,\n",
              " 'shoot': 859,\n",
              " 'turn': 1014,\n",
              " 'point': 725,\n",
              " 'test': 968,\n",
              " 'udtapunjab': 1018,\n",
              " 'finger': 350,\n",
              " 'race': 771,\n",
              " 'sometim': 886,\n",
              " 'strong': 921,\n",
              " 'design': 251,\n",
              " 'learn': 545,\n",
              " 'space': 895,\n",
              " 'use': 1026,\n",
              " 'help': 455,\n",
              " 'control': 206,\n",
              " 'black': 94,\n",
              " 'market': 597,\n",
              " 'terror': 966,\n",
              " 'wors': 1085,\n",
              " 'power': 736,\n",
              " 'mind': 618,\n",
              " 'heal': 447,\n",
              " 'bodi': 106,\n",
              " 'altwaystoh': 30,\n",
              " 'healthi': 449,\n",
              " 'week': 1062,\n",
              " 'place': 717,\n",
              " 'member': 611,\n",
              " 'music': 637,\n",
              " 'announc': 40,\n",
              " 'watch': 1053,\n",
              " 'episod': 300,\n",
              " 'veri': 1032,\n",
              " 'nice': 656,\n",
              " 'long': 572,\n",
              " 'snapchat': 880,\n",
              " 'thing': 976,\n",
              " 'incred': 490,\n",
              " 'receiv': 787,\n",
              " 'accept': 4,\n",
              " 'goodtim': 410,\n",
              " 'histori': 461,\n",
              " 'daughter': 236,\n",
              " 'ride': 809,\n",
              " 'bike': 90,\n",
              " 'enjoy': 297,\n",
              " 'summeim': 932,\n",
              " 'memori': 613,\n",
              " 'cours': 214,\n",
              " 'alway': 31,\n",
              " 'hope': 467,\n",
              " 'gonna': 405,\n",
              " 'soon': 889,\n",
              " 'coupl': 213,\n",
              " 'nake': 640,\n",
              " 'shop': 860,\n",
              " 'cool': 208,\n",
              " 'home': 465,\n",
              " 'fun': 383,\n",
              " 'truli': 1008,\n",
              " 'sick': 862,\n",
              " 'trump': 1009,\n",
              " 'obama': 667,\n",
              " 'chang': 151,\n",
              " 'eur': 304,\n",
              " 'fresh': 375,\n",
              " 'high': 457,\n",
              " 'friend': 378,\n",
              " 'head': 446,\n",
              " 'fact': 327,\n",
              " 'gone': 404,\n",
              " 'destroy': 253,\n",
              " 'relax': 792,\n",
              " 'woman': 1077,\n",
              " 'doesn': 265,\n",
              " 'racism': 772,\n",
              " 'bring': 122,\n",
              " 'appl': 51,\n",
              " 'song': 888,\n",
              " 'ripchristina': 812,\n",
              " 'vine': 1038,\n",
              " 'brexit': 119,\n",
              " 'health': 448,\n",
              " 'benefit': 83,\n",
              " 'followm': 361,\n",
              " 'iger': 484,\n",
              " 'instagood': 498,\n",
              " 'anim': 38,\n",
              " 'alon': 28,\n",
              " 'lone': 571,\n",
              " 'pool': 730,\n",
              " 'pick': 711,\n",
              " 'polar': 726,\n",
              " 'bear': 73,\n",
              " 'live': 566,\n",
              " 'cold': 182,\n",
              " 'muslim': 638,\n",
              " 'footbal': 365,\n",
              " 'usa': 1025,\n",
              " 'vega': 1030,\n",
              " 'write': 1087,\n",
              " 'tear': 960,\n",
              " 'fli': 355,\n",
              " 'bird': 92,\n",
              " 'pretti': 745,\n",
              " 'femal': 345,\n",
              " 'kill': 524,\n",
              " 'japan': 511,\n",
              " 'cute': 228,\n",
              " 'aren': 53,\n",
              " 'protest': 758,\n",
              " 'republican': 800,\n",
              " 'fuher': 382,\n",
              " 'spend': 900,\n",
              " 'boy': 113,\n",
              " 'guy': 427,\n",
              " 'updat': 1023,\n",
              " 'photooftheday': 709,\n",
              " 'anyon': 47,\n",
              " 'date': 235,\n",
              " 'hillari': 459,\n",
              " 'shame': 852,\n",
              " 'stupid': 927,\n",
              " 'bestfriend': 85,\n",
              " 'impoant': 488,\n",
              " 'matter': 603,\n",
              " 'actor': 9,\n",
              " 'human': 476,\n",
              " 'hea': 443,\n",
              " 'thought': 978,\n",
              " 'prayer': 739,\n",
              " 'murder': 636,\n",
              " 'album': 23,\n",
              " 'commun': 192,\n",
              " 'manag': 595,\n",
              " 'target': 953,\n",
              " 'worst': 1086,\n",
              " 'bless': 96,\n",
              " 'ladi': 533,\n",
              " 'happiest': 437,\n",
              " 'disney': 263,\n",
              " 'hair': 430,\n",
              " 'listen': 563,\n",
              " 'freedom': 374,\n",
              " 'present': 742,\n",
              " 'store': 916,\n",
              " 'past': 697,\n",
              " 'commit': 191,\n",
              " 'trust': 1010,\n",
              " 'faith': 330,\n",
              " 'gorilla': 413,\n",
              " 'racist': 773,\n",
              " 'internet': 504,\n",
              " 'broken': 124,\n",
              " 'netflix': 652,\n",
              " 'busi': 132,\n",
              " 'slut': 876,\n",
              " 'hand': 432,\n",
              " 'probabl': 751,\n",
              " 'lie': 554,\n",
              " 'game': 387,\n",
              " 'suck': 930,\n",
              " 'everyon': 310,\n",
              " 'goodmorn': 408,\n",
              " 'challeng': 149,\n",
              " 'claim': 168,\n",
              " 'send': 845,\n",
              " 'touch': 993,\n",
              " 'saturday': 830,\n",
              " 'afternoon': 18,\n",
              " 'meet': 608,\n",
              " 'bing': 91,\n",
              " 'bong': 107,\n",
              " 'month': 628,\n",
              " 'summer': 933,\n",
              " 'million': 617,\n",
              " 'hear': 450,\n",
              " 'player': 720,\n",
              " 'come': 187,\n",
              " 'terrorist': 967,\n",
              " 'anoth': 42,\n",
              " 'sad': 825,\n",
              " 'togeth': 986,\n",
              " 'depress': 249,\n",
              " 'protect': 757,\n",
              " 'remain': 795,\n",
              " 'princess': 749,\n",
              " 'post': 735,\n",
              " 'check': 154,\n",
              " 'said': 828,\n",
              " 'care': 142,\n",
              " 'alreadi': 29,\n",
              " 'block': 98,\n",
              " 'ask': 56,\n",
              " 'question': 767,\n",
              " 'news': 654,\n",
              " 'victim': 1035,\n",
              " 'state': 911,\n",
              " 'quot': 770,\n",
              " 'inspir': 496,\n",
              " 'safe': 827,\n",
              " 'way': 1055,\n",
              " 'creat': 219,\n",
              " 'beat': 74,\n",
              " 'thursday': 979,\n",
              " 'wed': 1060,\n",
              " 'number': 665,\n",
              " 'forward': 371,\n",
              " 'attend': 58,\n",
              " 'reach': 779,\n",
              " 'follow': 360,\n",
              " 'stream': 918,\n",
              " 'abus': 3,\n",
              " 'adult': 13,\n",
              " 'teen': 962,\n",
              " 'countri': 212,\n",
              " 'lunch': 586,\n",
              " 'lawofattract': 540,\n",
              " 'success': 929,\n",
              " 'joy': 517,\n",
              " 'libtard': 553,\n",
              " 'sjw': 873,\n",
              " 'liber': 552,\n",
              " 'polit': 728,\n",
              " 'attack': 57,\n",
              " 'empti': 291,\n",
              " 'citi': 167,\n",
              " 'self': 842,\n",
              " 'ball': 68,\n",
              " 'presid': 743,\n",
              " 'money': 627,\n",
              " 'sun': 934,\n",
              " 'confid': 198,\n",
              " 'moment': 625,\n",
              " 'lucki': 585,\n",
              " 'complet': 194,\n",
              " 'america': 33,\n",
              " 'dad': 229,\n",
              " 'brilliant': 121,\n",
              " 'custom': 227,\n",
              " 'screen': 836,\n",
              " 'shock': 857,\n",
              " 'beer': 78,\n",
              " 'food': 362,\n",
              " 'repost': 799,\n",
              " 'ocean': 668,\n",
              " 'teach': 957,\n",
              " 'felt': 344,\n",
              " 'left': 547,\n",
              " 'countdown': 211,\n",
              " 'rose': 821,\n",
              " 'club': 178,\n",
              " 'reason': 786,\n",
              " 'stay': 912,\n",
              " 'nobodi': 659,\n",
              " 'els': 288,\n",
              " 'app': 49,\n",
              " 'engag': 294,\n",
              " 'unit': 1021,\n",
              " 'rest': 804,\n",
              " 'hold': 463,\n",
              " 'door': 270,\n",
              " 'babi': 66,\n",
              " 'bought': 112,\n",
              " 'dori': 271,\n",
              " 'ticket': 980,\n",
              " 'minut': 620,\n",
              " 'lose': 575,\n",
              " 'second': 839,\n",
              " 'tech': 961,\n",
              " 'count': 210,\n",
              " 'abl': 0,\n",
              " 'suppo': 940,\n",
              " 'event': 306,\n",
              " 'puppi': 764,\n",
              " 'till': 981,\n",
              " 'lyric': 587,\n",
              " 'yesterday': 1093,\n",
              " 'mad': 588,\n",
              " 'dog': 266,\n",
              " 'teacher': 958,\n",
              " 'wonder': 1079,\n",
              " 'kind': 525,\n",
              " 'calm': 134,\n",
              " 'sunni': 936,\n",
              " 'glass': 399,\n",
              " 'true': 1007,\n",
              " 'american': 34,\n",
              " 'pussi': 765,\n",
              " 'mani': 596,\n",
              " 'noth': 662,\n",
              " 'bitch': 93,\n",
              " 'pride': 748,\n",
              " 'fathersday': 339,\n",
              " 'everyday': 309,\n",
              " 'wish': 1076,\n",
              " 'client': 172,\n",
              " 'scare': 833,\n",
              " 'neg': 649,\n",
              " 'choos': 162,\n",
              " 'lifestyl': 556,\n",
              " 'instead': 502,\n",
              " 'half': 431,\n",
              " 'idea': 482,\n",
              " 'dont': 269,\n",
              " 'understand': 1019,\n",
              " 'print': 750,\n",
              " 'mayb': 604,\n",
              " 'end': 292,\n",
              " 'violenc': 1039,\n",
              " 'fuck': 381,\n",
              " 'heard': 451,\n",
              " 'tri': 1004,\n",
              " 'mood': 629,\n",
              " 'flight': 356,\n",
              " 'read': 780,\n",
              " 'emot': 290,\n",
              " 'real': 782,\n",
              " 'snapshot': 881,\n",
              " 'hot': 471,\n",
              " 'nasti': 641,\n",
              " 'naughti': 644,\n",
              " 'sexi': 851,\n",
              " 'horni': 468,\n",
              " 'shi': 854,\n",
              " 'porn': 732,\n",
              " 'nude': 664,\n",
              " 'kinki': 527,\n",
              " 'xxx': 1089,\n",
              " 'creativ': 220,\n",
              " 'cri': 221,\n",
              " 'stuck': 922,\n",
              " 'level': 550,\n",
              " 'sinc': 867,\n",
              " 'folk': 359,\n",
              " 'launch': 539,\n",
              " 'delici': 248,\n",
              " 'vegan': 1031,\n",
              " 'horribl': 469,\n",
              " 'avail': 61,\n",
              " 'better': 87,\n",
              " 'pleas': 721,\n",
              " 'shoe': 858,\n",
              " 'stress': 920,\n",
              " 'poor': 731,\n",
              " 'univers': 1022,\n",
              " 'christian': 163,\n",
              " 'nbafin': 645,\n",
              " 'grate': 417,\n",
              " 'brother': 126,\n",
              " 'die': 256,\n",
              " 'light': 557,\n",
              " 'green': 421,\n",
              " 'town': 995,\n",
              " 'notic': 663,\n",
              " 'train': 999,\n",
              " 'lover': 583,\n",
              " 'guess': 425,\n",
              " 'latest': 537,\n",
              " 'class': 169,\n",
              " 'team': 959,\n",
              " 'seri': 847,\n",
              " 'edit': 285,\n",
              " 'answer': 43,\n",
              " 'hatr': 441,\n",
              " 'simul': 866,\n",
              " 'adapt': 11,\n",
              " 'environ': 299,\n",
              " 'materi': 602,\n",
              " 'leadership': 543,\n",
              " 'kiss': 528,\n",
              " 'donald': 268,\n",
              " 'pathet': 698,\n",
              " 'instalik': 500,\n",
              " 'instamood': 501,\n",
              " 'movi': 635,\n",
              " 'breakfast': 118,\n",
              " 'pack': 686,\n",
              " 'idiot': 483,\n",
              " 'rock': 816,\n",
              " 'project': 755,\n",
              " 'june': 520,\n",
              " 'imag': 486,\n",
              " 'problem': 752,\n",
              " 'chill': 159,\n",
              " 'dure': 281,\n",
              " 'juli': 519,\n",
              " 'tweet': 1015,\n",
              " 'sister': 870,\n",
              " 'death': 241,\n",
              " 'twitter': 1016,\n",
              " 'brand': 116,\n",
              " 'born': 110,\n",
              " 'mother': 632,\n",
              " 'soul': 891,\n",
              " 'nofilt': 660,\n",
              " 'buffalo': 129,\n",
              " 'damn': 232,\n",
              " 'young': 1096,\n",
              " 'instadaili': 497,\n",
              " 'yummi': 1099,\n",
              " 'nigga': 657,\n",
              " 'shit': 856,\n",
              " 'sunset': 937,\n",
              " 'fit': 353,\n",
              " 'god': 401,\n",
              " 'win': 1072,\n",
              " 'dream': 275,\n",
              " 'sta': 906,\n",
              " 'yay': 1090,\n",
              " 'worri': 1084,\n",
              " 'doubl': 272,\n",
              " 'eye': 324,\n",
              " 'aliv': 24,\n",
              " 'cousin': 215,\n",
              " 'visit': 1040,\n",
              " 'troll': 1006,\n",
              " 'heaven': 452,\n",
              " 'awesom': 64,\n",
              " 'account': 5,\n",
              " 'studi': 924,\n",
              " 'face': 325,\n",
              " 'pizza': 716,\n",
              " 'dinner': 259,\n",
              " 'plan': 718,\n",
              " 'franc': 372,\n",
              " 'cream': 218,\n",
              " 'sale': 829,\n",
              " 'clean': 170,\n",
              " 'hous': 474,\n",
              " 'list': 562,\n",
              " 'sell': 844,\n",
              " 'absolut': 2,\n",
              " 'origin': 682,\n",
              " 'sweet': 946,\n",
              " 'tragedi': 997,\n",
              " 'drive': 278,\n",
              " 'rate': 778,\n",
              " 'germani': 392,\n",
              " 'swim': 947,\n",
              " 'later': 536,\n",
              " 'haven': 442,\n",
              " 'film': 348,\n",
              " 'download': 273,\n",
              " 'photo': 707,\n",
              " 'offic': 670,\n",
              " 'crime': 222,\n",
              " 'marri': 598,\n",
              " 'congratul': 202,\n",
              " 'perfect': 702,\n",
              " 'spring': 904,\n",
              " 'season': 838,\n",
              " 'beach': 72,\n",
              " 'park': 694,\n",
              " 'stori': 917,\n",
              " 'track': 996,\n",
              " 'essentialoil': 303,\n",
              " 'anxieti': 45,\n",
              " 'children': 158,\n",
              " 'wet': 1066,\n",
              " 'flower': 358,\n",
              " 'special': 898,\n",
              " 'besti': 86,\n",
              " 'friendship': 379,\n",
              " 'fantast': 335,\n",
              " 'room': 819,\n",
              " 'group': 423,\n",
              " 'bank': 70,\n",
              " 'holiday': 464,\n",
              " 'issu': 510,\n",
              " 'oitnb': 672,\n",
              " 'paid': 688,\n",
              " 'wear': 1057,\n",
              " 'impress': 489,\n",
              " 'view': 1037,\n",
              " 'nyc': 666,\n",
              " 'ignor': 485,\n",
              " 'truth': 1011,\n",
              " 'rape': 777,\n",
              " 'wasn': 1051,\n",
              " 'color': 185,\n",
              " 'rainbow': 775,\n",
              " 'colour': 186,\n",
              " 'band': 69,\n",
              " 'parent': 692,\n",
              " 'london': 570,\n",
              " 'stomp': 914,\n",
              " 'tampa': 952,\n",
              " 'miami': 616,\n",
              " 'polic': 727,\n",
              " 'gun': 426,\n",
              " 'choic': 161,\n",
              " 'fall': 332,\n",
              " 'actual': 10,\n",
              " 'fish': 352,\n",
              " 'vacat': 1027,\n",
              " 'site': 872,\n",
              " 'taken': 949,\n",
              " 'expect': 320,\n",
              " 'rememb': 796,\n",
              " 'becom': 77,\n",
              " 'realiti': 783,\n",
              " 'star': 910,\n",
              " 'allahsoil': 25,\n",
              " 'fridayfeel': 377,\n",
              " 'pic': 710,\n",
              " 'easi': 283,\n",
              " 'comedi': 188,\n",
              " 'christma': 165,\n",
              " 'new': 653,\n",
              " 'tire': 984,\n",
              " 'annoy': 41,\n",
              " 'whi': 1068,\n",
              " 'child': 157,\n",
              " 'anti': 44,\n",
              " 'asian': 55,\n",
              " 'graduat': 416,\n",
              " 'nearli': 647,\n",
              " 'nervou': 650,\n",
              " 'eat': 284,\n",
              " 'chocol': 160,\n",
              " 'realiz': 784,\n",
              " 'didn': 255,\n",
              " 'gratitud': 418,\n",
              " 'bigot': 88,\n",
              " 'dear': 240,\n",
              " 'despit': 252,\n",
              " 'tragic': 998,\n",
              " 'angel': 35,\n",
              " 'walk': 1046,\n",
              " 'disappoint': 261,\n",
              " 'gift': 394,\n",
              " 'futur': 385,\n",
              " 'save': 831,\n",
              " 'husband': 479,\n",
              " 'stage': 908,\n",
              " 'chase': 153,\n",
              " 'boyfriend': 114,\n",
              " 'allow': 27,\n",
              " 'surpris': 944,\n",
              " 'yoga': 1094,\n",
              " 'conc': 195,\n",
              " 'gorgeou': 412,\n",
              " 'texa': 969,\n",
              " 'islam': 509,\n",
              " 'given': 397,\n",
              " 'match': 601,\n",
              " 'appreci': 52,\n",
              " 'set': 850,\n",
              " 'gay': 390,\n",
              " 'total': 992,\n",
              " 'abov': 1,\n",
              " 'everybodi': 308,\n",
              " 'elect': 287,\n",
              " 'magic': 590,\n",
              " 'youtub': 1098,\n",
              " 'outsid': 685,\n",
              " 'onlin': 676,\n",
              " 'tbt': 956,\n",
              " 'puls': 762,\n",
              " 'return': 806,\n",
              " 'water': 1054,\n",
              " 'boat': 105,\n",
              " 'adventur': 14,\n",
              " 'tuesday': 1012,\n",
              " 'believ': 82,\n",
              " 'england': 295,\n",
              " 'russia': 824,\n",
              " 'risk': 814,\n",
              " 'critic': 223,\n",
              " 'person': 704,\n",
              " 'daili': 231,\n",
              " 'compani': 193,\n",
              " 'forgot': 370,\n",
              " 'energi': 293,\n",
              " 'ahead': 20,\n",
              " 'login': 568,\n",
              " 'broker': 125,\n",
              " 'order': 680,\n",
              " 'india': 491,\n",
              " 'loveit': 581,\n",
              " 'spo': 902,\n",
              " 'join': 514,\n",
              " 'spread': 903,\n",
              " 'sleep': 875,\n",
              " 'bride': 120,\n",
              " 'melancholi': 609,\n",
              " 'melancholymus': 610,\n",
              " 'respect': 802,\n",
              " 'congrat': 201,\n",
              " 'educ': 286,\n",
              " 'campaign': 137,\n",
              " 'review': 808,\n",
              " 'innoc': 493,\n",
              " 'forc': 366,\n",
              " 'click': 171,\n",
              " 'speech': 899,\n",
              " 'sourc': 893,\n",
              " 'women': 1078,\n",
              " 'street': 919,\n",
              " 'entir': 298,\n",
              " 'cover': 216,\n",
              " 'john': 513,\n",
              " 'hell': 453,\n",
              " 'happier': 436,\n",
              " 'suicid': 931,\n",
              " 'bubbl': 128,\n",
              " 'natur': 643,\n",
              " 'card': 141,\n",
              " 'hill': 458,\n",
              " 'task': 954,\n",
              " 'surviv': 945,\n",
              " 'balanc': 67,\n",
              " 'frustrat': 380,\n",
              " 'phone': 706,\n",
              " 'gotta': 414,\n",
              " 'poetri': 724,\n",
              " 'favorit': 340,\n",
              " 'vicin': 1034,\n",
              " 'coach': 179,\n",
              " 'reflect': 790,\n",
              " 'hardcor': 439,\n",
              " 'collect': 183,\n",
              " 'wednesday': 1061,\n",
              " 'current': 226,\n",
              " 'road': 815,\n",
              " 'definit': 245,\n",
              " 'releas': 793,\n",
              " 'break': 117,\n",
              " 'stand': 909,\n",
              " 'humpday': 477,\n",
              " 'came': 135,\n",
              " 'draw': 274,\n",
              " 'dark': 234,\n",
              " 'press': 744,\n",
              " 'leader': 542,\n",
              " 'late': 535,\n",
              " 'newyork': 655,\n",
              " 'rooster': 820,\n",
              " 'vast': 1029,\n",
              " 'expans': 319,\n",
              " 'mountain': 634,\n",
              " 'leakag': 544,\n",
              " 'picoftheday': 712,\n",
              " 'rain': 774,\n",
              " 'hang': 433,\n",
              " 'possibl': 734,\n",
              " 'aicl': 21,\n",
              " 'pain': 689,\n",
              " 'cake': 133,\n",
              " 'mom': 624,\n",
              " 'vibe': 1033,\n",
              " 'decid': 242,\n",
              " 'recent': 788,\n",
              " 'condemn': 196,\n",
              " 'shine': 855,\n",
              " 'lgbt': 551,\n",
              " 'affect': 16,\n",
              " 'passion': 696,\n",
              " 'singl': 869,\n",
              " 'board': 104,\n",
              " 'progress': 754,\n",
              " 'instagram': 499,\n",
              " 'makeup': 593,\n",
              " 'lack': 532,\n",
              " 'small': 877,\n",
              " 'evil': 312,\n",
              " 'politician': 729,\n",
              " 'deserv': 250,\n",
              " 'luck': 584,\n",
              " 'speak': 897,\n",
              " 'terribl': 965,\n",
              " 'fail': 329,\n",
              " 'wisdom': 1075,\n",
              " 'insid': 495,\n",
              " 'near': 646,\n",
              " 'term': 964,\n",
              " 'respons': 803,\n",
              " 'simpl': 865,\n",
              " 'confirm': 199,\n",
              " 'dead': 238,\n",
              " 'misogynist': 621,\n",
              " 'staff': 907,\n",
              " 'bore': 109,\n",
              " 'quick': 768,\n",
              " 'case': 143,\n",
              " 'major': 591,\n",
              " 'fan': 334,\n",
              " 'someon': 884,\n",
              " 'hype': 480,\n",
              " 'mass': 600,\n",
              " 'legend': 548,\n",
              " 'poem': 723,\n",
              " 'haha': 429,\n",
              " 'paint': 690,\n",
              " 'sit': 871,\n",
              " 'secret': 840,\n",
              " 'marriag': 599,\n",
              " 'repo': 798,\n",
              " 'loss': 577,\n",
              " 'pictur': 713,\n",
              " 'weak': 1056,\n",
              " 'anniversari': 39,\n",
              " 'extrem': 323,\n",
              " 'offici': 671,\n",
              " 'blogger': 100,\n",
              " 'greatest': 420,\n",
              " 'tune': 1013,\n",
              " 'bday': 71,\n",
              " 'tree': 1002,\n",
              " 'tag': 948,\n",
              " 'fast': 337,\n",
              " 'ramadan': 776,\n",
              " 'pray': 738,\n",
              " 'grace': 415,\n",
              " 'church': 166,\n",
              " 'punjab': 763,\n",
              " 'suppoer': 941,\n",
              " 'intern': 503,\n",
              " 'rule': 822,\n",
              " 'knew': 530,\n",
              " 'isi': 508,\n",
              " 'forget': 369,\n",
              " 'gym': 428,\n",
              " 'glad': 398,\n",
              " 'delet': 246,\n",
              " 'deletetweet': 247,\n",
              " 'trip': 1005,\n",
              " 'pari': 693,\n",
              " 'nation': 642,\n",
              " 'judg': 518,\n",
              " 'took': 990,\n",
              " 'aist': 22,\n",
              " 'crazi': 217,\n",
              " 'experi': 321,\n",
              " 'practic': 737,\n",
              " 'fear': 342,\n",
              " 'lighttherapi': 558,\n",
              " 'fake': 331,\n",
              " 'anyth': 48,\n",
              " 'cantwait': 139,\n",
              " 'remind': 797,\n",
              " 'couldn': 209,\n",
              " 'exercis': 317,\n",
              " 'exactli': 313,\n",
              " 'colleg': 184,\n",
              " 'pay': 699,\n",
              " 'papa': 691,\n",
              " 'hungri': 478,\n",
              " 'joke': 515,\n",
              " 'hispan': 460,\n",
              " 'wakeup': 1045,\n",
              " 'talent': 950,\n",
              " 'wast': 1052,\n",
              " 'quit': 769,\n",
              " 'south': 894,\n",
              " 'equal': 301,\n",
              " 'ripchristinagrimmi': 813,\n",
              " 'allig': 26,\n",
              " 'continu': 205,\n",
              " 'sea': 837,\n",
              " 'type': 1017,\n",
              " 'spent': 901,\n",
              " 'note': 661,\n",
              " 'email': 289,\n",
              " 'appar': 50,\n",
              " 'resist': 801,\n",
              " 'cook': 207,\n",
              " 'invit': 505,\n",
              " 'comic': 189,\n",
              " 'lot': 579,\n",
              " 'behappi': 81,\n",
              " 'sorri': 890,\n",
              " 'messag': 615,\n",
              " 'host': 470,\n",
              " 'excel': 315,\n",
              " 'award': 62,\n",
              " 'brain': 115,\n",
              " 'diet': 257,\n",
              " 'foodi': 363,\n",
              " 'catch': 145,\n",
              " 'treat': 1001,\n",
              " 'king': 526,\n",
              " 'queen': 766,\n",
              " 'orang': 679,\n",
              " 'pink': 715,\n",
              " 'iphon': 506,\n",
              " 'ness': 651,\n",
              " 'content': 204,\n",
              " 'decis': 243,\n",
              " 'festiv': 346,\n",
              " 'earli': 282,\n",
              " 'wild': 1071,\n",
              " 'local': 567,\n",
              " 'step': 913,\n",
              " 'flag': 354,\n",
              " 'sens': 846,\n",
              " 'cloth': 176,\n",
              " 'liter': 564,\n",
              " 'nail': 639,\n",
              " ...}"
            ]
          },
          "metadata": {
            "tags": []
          },
          "execution_count": 37
        }
      ]
    },
    {
      "cell_type": "markdown",
      "metadata": {
        "id": "2f0cXdcB81U4",
        "colab_type": "text"
      },
      "source": [
        "TF-IDF: basically returns a matrix similar like the dt matrix but has vaules of the respective tf-idf scores.\n",
        " Creating a TF-IDF matrix is very similar to that of a dt matrix. We can also change a dt matrix into a TF-IDF one by using the TfidfTransformer.\n",
        "TF-IDF is a scoring system which gives more weight/ score to rare words appearing in good numbers in few of the documents. With this, \n",
        "it also penalises very frequently occuring words in the corpus. This is all possible because of the log(IDF) term in its calculations. \n"
      ]
    },
    {
      "cell_type": "code",
      "metadata": {
        "id": "RRx0eySoyTqT",
        "colab_type": "code",
        "colab": {}
      },
      "source": [
        "tfidfvec = TfidfVectorizer(max_df= 0.88, min_df=2, max_features=1100)\n",
        "tfidf = tfidfvec.fit_transform(combined['cleaned tweet'])"
      ],
      "execution_count": 0,
      "outputs": []
    },
    {
      "cell_type": "markdown",
      "metadata": {
        "id": "oecUtwqN8VZL",
        "colab_type": "text"
      },
      "source": [
        "With this we have a bag of words model i.e. a dt matrix and a TF-IDF model/ matrix with us to work with.\n",
        "Although these two are good for performing sentiment analysis, there is another method which can help us here, and that is word embedding. <br/>\n",
        "####***Word Embedding is the conversion of words to vectors. The reason for this transformation is so that machine learning algorithm can perform linear algebra operations on numbers (in vectors) instead of words***"
      ]
    },
    {
      "cell_type": "code",
      "metadata": {
        "id": "U09kmafK88Lk",
        "colab_type": "code",
        "colab": {}
      },
      "source": [
        "tokenized_tweet = combined['cleaned tweet'].apply(lambda x : x.split())\n",
        "w2vModel = gensim.models.Word2Vec(tokenized_tweet, size=200,window=5,min_count=2, sg=1, hs = 0, negative = 10, workers= 2, seed = 34) "
      ],
      "execution_count": 0,
      "outputs": []
    },
    {
      "cell_type": "code",
      "metadata": {
        "id": "sQMlO_bor1uc",
        "colab_type": "code",
        "outputId": "885f1f36-09f2-496a-e8a3-9a349315ec89",
        "colab": {
          "base_uri": "https://localhost:8080/",
          "height": 34
        }
      },
      "source": [
        "w2vModel.train(tokenized_tweet, total_examples=len(combined['cleaned tweet']), epochs = 20)"
      ],
      "execution_count": 0,
      "outputs": [
        {
          "output_type": "execute_result",
          "data": {
            "text/plain": [
              "(6509975, 7535460)"
            ]
          },
          "metadata": {
            "tags": []
          },
          "execution_count": 40
        }
      ]
    },
    {
      "cell_type": "code",
      "metadata": {
        "id": "Rwrp8SDQsl9k",
        "colab_type": "code",
        "outputId": "44925288-6fa2-4158-8844-ef1c9d331ae1",
        "colab": {
          "base_uri": "https://localhost:8080/",
          "height": 238
        }
      },
      "source": [
        "w2vModel.wv.most_similar(positive='dinner')"
      ],
      "execution_count": 0,
      "outputs": [
        {
          "output_type": "stream",
          "text": [
            "/usr/local/lib/python3.6/dist-packages/gensim/matutils.py:737: FutureWarning: Conversion of the second argument of issubdtype from `int` to `np.signedinteger` is deprecated. In future, it will be treated as `np.int64 == np.dtype(int).type`.\n",
            "  if np.issubdtype(vec.dtype, np.int):\n"
          ],
          "name": "stderr"
        },
        {
          "output_type": "execute_result",
          "data": {
            "text/plain": [
              "[('cookout', 0.5627826452255249),\n",
              " ('#avocado', 0.5626529455184937),\n",
              " ('spaghetti', 0.5615538358688354),\n",
              " ('#biall', 0.5465629696846008),\n",
              " ('#cellar', 0.5458632707595825),\n",
              " ('burrito', 0.5425111055374146),\n",
              " ('noodl', 0.5420830249786377),\n",
              " ('#foodcoma', 0.5351725816726685),\n",
              " ('dess', 0.532442033290863),\n",
              " ('fav', 0.5313172340393066)]"
            ]
          },
          "metadata": {
            "tags": []
          },
          "execution_count": 41
        }
      ]
    },
    {
      "cell_type": "code",
      "metadata": {
        "id": "e5tMsVwLuQ4D",
        "colab_type": "code",
        "colab": {}
      },
      "source": [
        "## Taking mean of all words in a tweet.\n",
        "def tweet_vector(tweet, size ):\n",
        "  vec = np.zeros(size).reshape((1, size))\n",
        "  count = 0\n",
        "  for word in tweet:\n",
        "    try:\n",
        "      vec = vec + w2vModel[word].reshape((1,size))\n",
        "      count += 1\n",
        "    except KeyError:\n",
        "      continue\n",
        "  if count != 0:\n",
        "    vec /= count\n",
        "\n",
        "  return vec  "
      ],
      "execution_count": 0,
      "outputs": []
    },
    {
      "cell_type": "code",
      "metadata": {
        "id": "u94C_f34CHxl",
        "colab_type": "code",
        "colab": {}
      },
      "source": [
        "wordvec_array = np.zeros((len(tokenized_tweet), 200))\n",
        "for i in range(len(tokenized_tweet)):\n",
        "  wordvec_array[i] = tweet_vector(tokenized_tweet[i], 200)"
      ],
      "execution_count": 0,
      "outputs": []
    },
    {
      "cell_type": "code",
      "metadata": {
        "id": "EMCqK7QREbhG",
        "colab_type": "code",
        "colab": {}
      },
      "source": [
        "word_vec_df = pd.DataFrame(wordvec_array)"
      ],
      "execution_count": 0,
      "outputs": []
    },
    {
      "cell_type": "code",
      "metadata": {
        "id": "ZJ9T0OxZEiu8",
        "colab_type": "code",
        "outputId": "687078e9-9715-47cc-bfab-09f28a1a8d78",
        "colab": {
          "base_uri": "https://localhost:8080/",
          "height": 34
        }
      },
      "source": [
        "word_vec_df.shape"
      ],
      "execution_count": 0,
      "outputs": [
        {
          "output_type": "execute_result",
          "data": {
            "text/plain": [
              "(49159, 200)"
            ]
          },
          "metadata": {
            "tags": []
          },
          "execution_count": 61
        }
      ]
    },
    {
      "cell_type": "markdown",
      "metadata": {
        "id": "jfs98vKCEr04",
        "colab_type": "text"
      },
      "source": [
        "Logistic Regression"
      ]
    },
    {
      "cell_type": "code",
      "metadata": {
        "id": "L0_emDS7EuEh",
        "colab_type": "code",
        "colab": {}
      },
      "source": [
        ""
      ],
      "execution_count": 0,
      "outputs": []
    }
  ]
}